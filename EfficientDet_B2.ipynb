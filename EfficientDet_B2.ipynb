{
  "nbformat": 4,
  "nbformat_minor": 0,
  "metadata": {
    "colab": {
      "provenance": [],
      "gpuType": "T4",
      "authorship_tag": "ABX9TyOAwrRwl9sFT1xxLkzvnw5F",
      "include_colab_link": true
    },
    "kernelspec": {
      "name": "python3",
      "display_name": "Python 3"
    },
    "language_info": {
      "name": "python"
    },
    "accelerator": "GPU"
  },
  "cells": [
    {
      "cell_type": "markdown",
      "metadata": {
        "id": "view-in-github",
        "colab_type": "text"
      },
      "source": [
        "<a href=\"https://colab.research.google.com/github/FernandoSimon22/vision_artificial/blob/main/EfficientDet_B2.ipynb\" target=\"_parent\"><img src=\"https://colab.research.google.com/assets/colab-badge.svg\" alt=\"Open In Colab\"/></a>"
      ]
    },
    {
      "cell_type": "markdown",
      "source": [
        "### **Entrenar y Evaluar EfficientDet B0**"
      ],
      "metadata": {
        "id": "dc7NHLmgiS3g"
      }
    },
    {
      "cell_type": "code",
      "source": [
        "!nvidia-smi"
      ],
      "metadata": {
        "colab": {
          "base_uri": "https://localhost:8080/"
        },
        "id": "NaD39p9M4WdS",
        "outputId": "96d5a50a-5a2a-437c-931f-ca8f3a13a597"
      },
      "execution_count": 2,
      "outputs": [
        {
          "output_type": "stream",
          "name": "stdout",
          "text": [
            "/bin/bash: line 1: nvidia-smi: command not found\n"
          ]
        }
      ]
    },
    {
      "cell_type": "code",
      "execution_count": 1,
      "metadata": {
        "colab": {
          "base_uri": "https://localhost:8080/"
        },
        "id": "_iCVc0ClJFgy",
        "outputId": "5ed1fa96-929e-4b2a-e93c-8054c56ed255"
      },
      "outputs": [
        {
          "output_type": "stream",
          "name": "stdout",
          "text": [
            "fatal: destination path 'automl' already exists and is not an empty directory.\n",
            "/content/automl/efficientdet\n",
            "Collecting git+https://github.com/cocodataset/cocoapi.git#subdirectory=PythonAPI (from -r requirements.txt (line 13))\n",
            "  Cloning https://github.com/cocodataset/cocoapi.git to /tmp/pip-req-build-2mwclxf0\n",
            "  Running command git clone --filter=blob:none --quiet https://github.com/cocodataset/cocoapi.git /tmp/pip-req-build-2mwclxf0\n",
            "  Resolved https://github.com/cocodataset/cocoapi.git to commit 8c9bcc3cf640524c4c20a9c40e89cb6a2f2fa0e9\n",
            "  Preparing metadata (setup.py) ... \u001b[?25l\u001b[?25hdone\n",
            "Requirement already satisfied: lxml>=4.6.1 in /usr/local/lib/python3.11/dist-packages (from -r requirements.txt (line 1)) (5.4.0)\n",
            "Requirement already satisfied: absl-py>=0.10.0 in /usr/local/lib/python3.11/dist-packages (from -r requirements.txt (line 2)) (1.4.0)\n",
            "Requirement already satisfied: matplotlib>=3.0.3 in /usr/local/lib/python3.11/dist-packages (from -r requirements.txt (line 3)) (3.10.0)\n",
            "Requirement already satisfied: numpy<1.24.0,>=1.19.4 in /usr/local/lib/python3.11/dist-packages (from -r requirements.txt (line 4)) (1.23.5)\n",
            "Requirement already satisfied: Pillow>=9.5.0 in /usr/local/lib/python3.11/dist-packages (from -r requirements.txt (line 5)) (11.2.1)\n",
            "Requirement already satisfied: PyYAML>=5.1 in /usr/local/lib/python3.11/dist-packages (from -r requirements.txt (line 6)) (6.0.2)\n",
            "Requirement already satisfied: six>=1.15.0 in /usr/local/lib/python3.11/dist-packages (from -r requirements.txt (line 7)) (1.17.0)\n",
            "Requirement already satisfied: tensorflow<2.16.0,>=2.10.0 in /usr/local/lib/python3.11/dist-packages (from -r requirements.txt (line 8)) (2.15.1)\n",
            "Requirement already satisfied: tensorflow-addons>=0.18.0 in /usr/local/lib/python3.11/dist-packages (from -r requirements.txt (line 9)) (0.23.0)\n",
            "Requirement already satisfied: tensorflow-hub>=0.11 in /usr/local/lib/python3.11/dist-packages (from -r requirements.txt (line 10)) (0.16.1)\n",
            "Requirement already satisfied: neural-structured-learning>=1.3.1 in /usr/local/lib/python3.11/dist-packages (from -r requirements.txt (line 11)) (1.4.0)\n",
            "Requirement already satisfied: Cython>=0.29.13 in /usr/local/lib/python3.11/dist-packages (from -r requirements.txt (line 12)) (3.0.12)\n",
            "Requirement already satisfied: contourpy>=1.0.1 in /usr/local/lib/python3.11/dist-packages (from matplotlib>=3.0.3->-r requirements.txt (line 3)) (1.3.2)\n",
            "Requirement already satisfied: cycler>=0.10 in /usr/local/lib/python3.11/dist-packages (from matplotlib>=3.0.3->-r requirements.txt (line 3)) (0.12.1)\n",
            "Requirement already satisfied: fonttools>=4.22.0 in /usr/local/lib/python3.11/dist-packages (from matplotlib>=3.0.3->-r requirements.txt (line 3)) (4.58.0)\n",
            "Requirement already satisfied: kiwisolver>=1.3.1 in /usr/local/lib/python3.11/dist-packages (from matplotlib>=3.0.3->-r requirements.txt (line 3)) (1.4.8)\n",
            "Requirement already satisfied: packaging>=20.0 in /usr/local/lib/python3.11/dist-packages (from matplotlib>=3.0.3->-r requirements.txt (line 3)) (24.2)\n",
            "Requirement already satisfied: pyparsing>=2.3.1 in /usr/local/lib/python3.11/dist-packages (from matplotlib>=3.0.3->-r requirements.txt (line 3)) (3.2.3)\n",
            "Requirement already satisfied: python-dateutil>=2.7 in /usr/local/lib/python3.11/dist-packages (from matplotlib>=3.0.3->-r requirements.txt (line 3)) (2.9.0.post0)\n",
            "Requirement already satisfied: astunparse>=1.6.0 in /usr/local/lib/python3.11/dist-packages (from tensorflow<2.16.0,>=2.10.0->-r requirements.txt (line 8)) (1.6.3)\n",
            "Requirement already satisfied: flatbuffers>=23.5.26 in /usr/local/lib/python3.11/dist-packages (from tensorflow<2.16.0,>=2.10.0->-r requirements.txt (line 8)) (25.2.10)\n",
            "Requirement already satisfied: gast!=0.5.0,!=0.5.1,!=0.5.2,>=0.2.1 in /usr/local/lib/python3.11/dist-packages (from tensorflow<2.16.0,>=2.10.0->-r requirements.txt (line 8)) (0.6.0)\n",
            "Requirement already satisfied: google-pasta>=0.1.1 in /usr/local/lib/python3.11/dist-packages (from tensorflow<2.16.0,>=2.10.0->-r requirements.txt (line 8)) (0.2.0)\n",
            "Requirement already satisfied: h5py>=2.9.0 in /usr/local/lib/python3.11/dist-packages (from tensorflow<2.16.0,>=2.10.0->-r requirements.txt (line 8)) (3.13.0)\n",
            "Requirement already satisfied: libclang>=13.0.0 in /usr/local/lib/python3.11/dist-packages (from tensorflow<2.16.0,>=2.10.0->-r requirements.txt (line 8)) (18.1.1)\n",
            "Requirement already satisfied: ml-dtypes~=0.3.1 in /usr/local/lib/python3.11/dist-packages (from tensorflow<2.16.0,>=2.10.0->-r requirements.txt (line 8)) (0.3.2)\n",
            "Requirement already satisfied: opt-einsum>=2.3.2 in /usr/local/lib/python3.11/dist-packages (from tensorflow<2.16.0,>=2.10.0->-r requirements.txt (line 8)) (3.4.0)\n",
            "Requirement already satisfied: protobuf!=4.21.0,!=4.21.1,!=4.21.2,!=4.21.3,!=4.21.4,!=4.21.5,<5.0.0dev,>=3.20.3 in /usr/local/lib/python3.11/dist-packages (from tensorflow<2.16.0,>=2.10.0->-r requirements.txt (line 8)) (4.25.8)\n",
            "Requirement already satisfied: setuptools in /usr/local/lib/python3.11/dist-packages (from tensorflow<2.16.0,>=2.10.0->-r requirements.txt (line 8)) (75.2.0)\n",
            "Requirement already satisfied: termcolor>=1.1.0 in /usr/local/lib/python3.11/dist-packages (from tensorflow<2.16.0,>=2.10.0->-r requirements.txt (line 8)) (3.1.0)\n",
            "Requirement already satisfied: typing-extensions>=3.6.6 in /usr/local/lib/python3.11/dist-packages (from tensorflow<2.16.0,>=2.10.0->-r requirements.txt (line 8)) (4.13.2)\n",
            "Requirement already satisfied: wrapt<1.15,>=1.11.0 in /usr/local/lib/python3.11/dist-packages (from tensorflow<2.16.0,>=2.10.0->-r requirements.txt (line 8)) (1.14.1)\n",
            "Requirement already satisfied: tensorflow-io-gcs-filesystem>=0.23.1 in /usr/local/lib/python3.11/dist-packages (from tensorflow<2.16.0,>=2.10.0->-r requirements.txt (line 8)) (0.37.1)\n",
            "Requirement already satisfied: grpcio<2.0,>=1.24.3 in /usr/local/lib/python3.11/dist-packages (from tensorflow<2.16.0,>=2.10.0->-r requirements.txt (line 8)) (1.71.0)\n",
            "Requirement already satisfied: tensorboard<2.16,>=2.15 in /usr/local/lib/python3.11/dist-packages (from tensorflow<2.16.0,>=2.10.0->-r requirements.txt (line 8)) (2.15.2)\n",
            "Requirement already satisfied: tensorflow-estimator<2.16,>=2.15.0 in /usr/local/lib/python3.11/dist-packages (from tensorflow<2.16.0,>=2.10.0->-r requirements.txt (line 8)) (2.15.0)\n",
            "Requirement already satisfied: keras<2.16,>=2.15.0 in /usr/local/lib/python3.11/dist-packages (from tensorflow<2.16.0,>=2.10.0->-r requirements.txt (line 8)) (2.15.0)\n",
            "Requirement already satisfied: typeguard<3.0.0,>=2.7 in /usr/local/lib/python3.11/dist-packages (from tensorflow-addons>=0.18.0->-r requirements.txt (line 9)) (2.13.3)\n",
            "Requirement already satisfied: tf-keras>=2.14.1 in /usr/local/lib/python3.11/dist-packages (from tensorflow-hub>=0.11->-r requirements.txt (line 10)) (2.15.1)\n",
            "Requirement already satisfied: attrs in /usr/local/lib/python3.11/dist-packages (from neural-structured-learning>=1.3.1->-r requirements.txt (line 11)) (25.3.0)\n",
            "Requirement already satisfied: scipy in /usr/local/lib/python3.11/dist-packages (from neural-structured-learning>=1.3.1->-r requirements.txt (line 11)) (1.15.3)\n",
            "Requirement already satisfied: wheel<1.0,>=0.23.0 in /usr/local/lib/python3.11/dist-packages (from astunparse>=1.6.0->tensorflow<2.16.0,>=2.10.0->-r requirements.txt (line 8)) (0.45.1)\n",
            "Requirement already satisfied: google-auth<3,>=1.6.3 in /usr/local/lib/python3.11/dist-packages (from tensorboard<2.16,>=2.15->tensorflow<2.16.0,>=2.10.0->-r requirements.txt (line 8)) (2.38.0)\n",
            "Requirement already satisfied: google-auth-oauthlib<2,>=0.5 in /usr/local/lib/python3.11/dist-packages (from tensorboard<2.16,>=2.15->tensorflow<2.16.0,>=2.10.0->-r requirements.txt (line 8)) (1.2.2)\n",
            "Requirement already satisfied: markdown>=2.6.8 in /usr/local/lib/python3.11/dist-packages (from tensorboard<2.16,>=2.15->tensorflow<2.16.0,>=2.10.0->-r requirements.txt (line 8)) (3.8)\n",
            "Requirement already satisfied: requests<3,>=2.21.0 in /usr/local/lib/python3.11/dist-packages (from tensorboard<2.16,>=2.15->tensorflow<2.16.0,>=2.10.0->-r requirements.txt (line 8)) (2.32.3)\n",
            "Requirement already satisfied: tensorboard-data-server<0.8.0,>=0.7.0 in /usr/local/lib/python3.11/dist-packages (from tensorboard<2.16,>=2.15->tensorflow<2.16.0,>=2.10.0->-r requirements.txt (line 8)) (0.7.2)\n",
            "Requirement already satisfied: werkzeug>=1.0.1 in /usr/local/lib/python3.11/dist-packages (from tensorboard<2.16,>=2.15->tensorflow<2.16.0,>=2.10.0->-r requirements.txt (line 8)) (3.1.3)\n",
            "Requirement already satisfied: cachetools<6.0,>=2.0.0 in /usr/local/lib/python3.11/dist-packages (from google-auth<3,>=1.6.3->tensorboard<2.16,>=2.15->tensorflow<2.16.0,>=2.10.0->-r requirements.txt (line 8)) (5.5.2)\n",
            "Requirement already satisfied: pyasn1-modules>=0.2.1 in /usr/local/lib/python3.11/dist-packages (from google-auth<3,>=1.6.3->tensorboard<2.16,>=2.15->tensorflow<2.16.0,>=2.10.0->-r requirements.txt (line 8)) (0.4.2)\n",
            "Requirement already satisfied: rsa<5,>=3.1.4 in /usr/local/lib/python3.11/dist-packages (from google-auth<3,>=1.6.3->tensorboard<2.16,>=2.15->tensorflow<2.16.0,>=2.10.0->-r requirements.txt (line 8)) (4.9.1)\n",
            "Requirement already satisfied: requests-oauthlib>=0.7.0 in /usr/local/lib/python3.11/dist-packages (from google-auth-oauthlib<2,>=0.5->tensorboard<2.16,>=2.15->tensorflow<2.16.0,>=2.10.0->-r requirements.txt (line 8)) (2.0.0)\n",
            "Requirement already satisfied: charset-normalizer<4,>=2 in /usr/local/lib/python3.11/dist-packages (from requests<3,>=2.21.0->tensorboard<2.16,>=2.15->tensorflow<2.16.0,>=2.10.0->-r requirements.txt (line 8)) (3.4.2)\n",
            "Requirement already satisfied: idna<4,>=2.5 in /usr/local/lib/python3.11/dist-packages (from requests<3,>=2.21.0->tensorboard<2.16,>=2.15->tensorflow<2.16.0,>=2.10.0->-r requirements.txt (line 8)) (3.10)\n",
            "Requirement already satisfied: urllib3<3,>=1.21.1 in /usr/local/lib/python3.11/dist-packages (from requests<3,>=2.21.0->tensorboard<2.16,>=2.15->tensorflow<2.16.0,>=2.10.0->-r requirements.txt (line 8)) (2.4.0)\n",
            "Requirement already satisfied: certifi>=2017.4.17 in /usr/local/lib/python3.11/dist-packages (from requests<3,>=2.21.0->tensorboard<2.16,>=2.15->tensorflow<2.16.0,>=2.10.0->-r requirements.txt (line 8)) (2025.4.26)\n",
            "Requirement already satisfied: MarkupSafe>=2.1.1 in /usr/local/lib/python3.11/dist-packages (from werkzeug>=1.0.1->tensorboard<2.16,>=2.15->tensorflow<2.16.0,>=2.10.0->-r requirements.txt (line 8)) (3.0.2)\n",
            "Requirement already satisfied: pyasn1<0.7.0,>=0.6.1 in /usr/local/lib/python3.11/dist-packages (from pyasn1-modules>=0.2.1->google-auth<3,>=1.6.3->tensorboard<2.16,>=2.15->tensorflow<2.16.0,>=2.10.0->-r requirements.txt (line 8)) (0.6.1)\n",
            "Requirement already satisfied: oauthlib>=3.0.0 in /usr/local/lib/python3.11/dist-packages (from requests-oauthlib>=0.7.0->google-auth-oauthlib<2,>=0.5->tensorboard<2.16,>=2.15->tensorflow<2.16.0,>=2.10.0->-r requirements.txt (line 8)) (3.2.2)\n",
            "Requirement already satisfied: tf_slim in /usr/local/lib/python3.11/dist-packages (1.1.0)\n",
            "Requirement already satisfied: pycocotools in /usr/local/lib/python3.11/dist-packages (2.0)\n",
            "Requirement already satisfied: lvis in /usr/local/lib/python3.11/dist-packages (0.5.3)\n",
            "Requirement already satisfied: absl-py>=0.2.2 in /usr/local/lib/python3.11/dist-packages (from tf_slim) (1.4.0)\n",
            "Requirement already satisfied: setuptools>=18.0 in /usr/local/lib/python3.11/dist-packages (from pycocotools) (75.2.0)\n",
            "Requirement already satisfied: cython>=0.27.3 in /usr/local/lib/python3.11/dist-packages (from pycocotools) (3.0.12)\n",
            "Requirement already satisfied: matplotlib>=2.1.0 in /usr/local/lib/python3.11/dist-packages (from pycocotools) (3.10.0)\n",
            "Requirement already satisfied: cycler>=0.10.0 in /usr/local/lib/python3.11/dist-packages (from lvis) (0.12.1)\n",
            "Requirement already satisfied: kiwisolver>=1.1.0 in /usr/local/lib/python3.11/dist-packages (from lvis) (1.4.8)\n",
            "Requirement already satisfied: numpy>=1.18.2 in /usr/local/lib/python3.11/dist-packages (from lvis) (1.23.5)\n",
            "Requirement already satisfied: opencv-python>=4.1.0.25 in /usr/local/lib/python3.11/dist-packages (from lvis) (4.11.0.86)\n",
            "Requirement already satisfied: pyparsing>=2.4.0 in /usr/local/lib/python3.11/dist-packages (from lvis) (3.2.3)\n",
            "Requirement already satisfied: python-dateutil>=2.8.0 in /usr/local/lib/python3.11/dist-packages (from lvis) (2.9.0.post0)\n",
            "Requirement already satisfied: six>=1.12.0 in /usr/local/lib/python3.11/dist-packages (from lvis) (1.17.0)\n",
            "Requirement already satisfied: contourpy>=1.0.1 in /usr/local/lib/python3.11/dist-packages (from matplotlib>=2.1.0->pycocotools) (1.3.2)\n",
            "Requirement already satisfied: fonttools>=4.22.0 in /usr/local/lib/python3.11/dist-packages (from matplotlib>=2.1.0->pycocotools) (4.58.0)\n",
            "Requirement already satisfied: packaging>=20.0 in /usr/local/lib/python3.11/dist-packages (from matplotlib>=2.1.0->pycocotools) (24.2)\n",
            "Requirement already satisfied: pillow>=8 in /usr/local/lib/python3.11/dist-packages (from matplotlib>=2.1.0->pycocotools) (11.2.1)\n",
            "Cloning into 'models'...\n",
            "remote: Enumerating objects: 101921, done.\u001b[K\n",
            "remote: Counting objects: 100% (93/93), done.\u001b[K\n",
            "remote: Compressing objects: 100% (57/57), done.\u001b[K\n",
            "remote: Total 101921 (delta 62), reused 37 (delta 36), pack-reused 101828 (from 3)\u001b[K\n",
            "Receiving objects: 100% (101921/101921), 628.32 MiB | 29.79 MiB/s, done.\n",
            "Resolving deltas: 100% (72614/72614), done.\n",
            "/content/automl/efficientdet/models/research\n",
            "Requirement already satisfied: tf_slim in /usr/local/lib/python3.11/dist-packages (1.1.0)\n",
            "Requirement already satisfied: pycocotools in /usr/local/lib/python3.11/dist-packages (2.0)\n",
            "Requirement already satisfied: lvis in /usr/local/lib/python3.11/dist-packages (0.5.3)\n",
            "Requirement already satisfied: absl-py>=0.2.2 in /usr/local/lib/python3.11/dist-packages (from tf_slim) (1.4.0)\n",
            "Requirement already satisfied: setuptools>=18.0 in /usr/local/lib/python3.11/dist-packages (from pycocotools) (75.2.0)\n",
            "Requirement already satisfied: cython>=0.27.3 in /usr/local/lib/python3.11/dist-packages (from pycocotools) (3.0.12)\n",
            "Requirement already satisfied: matplotlib>=2.1.0 in /usr/local/lib/python3.11/dist-packages (from pycocotools) (3.10.0)\n",
            "Requirement already satisfied: cycler>=0.10.0 in /usr/local/lib/python3.11/dist-packages (from lvis) (0.12.1)\n",
            "Requirement already satisfied: kiwisolver>=1.1.0 in /usr/local/lib/python3.11/dist-packages (from lvis) (1.4.8)\n",
            "Requirement already satisfied: numpy>=1.18.2 in /usr/local/lib/python3.11/dist-packages (from lvis) (1.23.5)\n",
            "Requirement already satisfied: opencv-python>=4.1.0.25 in /usr/local/lib/python3.11/dist-packages (from lvis) (4.11.0.86)\n",
            "Requirement already satisfied: pyparsing>=2.4.0 in /usr/local/lib/python3.11/dist-packages (from lvis) (3.2.3)\n",
            "Requirement already satisfied: python-dateutil>=2.8.0 in /usr/local/lib/python3.11/dist-packages (from lvis) (2.9.0.post0)\n",
            "Requirement already satisfied: six>=1.12.0 in /usr/local/lib/python3.11/dist-packages (from lvis) (1.17.0)\n",
            "Requirement already satisfied: contourpy>=1.0.1 in /usr/local/lib/python3.11/dist-packages (from matplotlib>=2.1.0->pycocotools) (1.3.2)\n",
            "Requirement already satisfied: fonttools>=4.22.0 in /usr/local/lib/python3.11/dist-packages (from matplotlib>=2.1.0->pycocotools) (4.58.0)\n",
            "Requirement already satisfied: packaging>=20.0 in /usr/local/lib/python3.11/dist-packages (from matplotlib>=2.1.0->pycocotools) (24.2)\n",
            "Requirement already satisfied: pillow>=8 in /usr/local/lib/python3.11/dist-packages (from matplotlib>=2.1.0->pycocotools) (11.2.1)\n",
            "2025-05-31 12:24:57.531471: E external/local_xla/xla/stream_executor/cuda/cuda_dnn.cc:9261] Unable to register cuDNN factory: Attempting to register factory for plugin cuDNN when one has already been registered\n",
            "2025-05-31 12:24:57.531526: E external/local_xla/xla/stream_executor/cuda/cuda_fft.cc:607] Unable to register cuFFT factory: Attempting to register factory for plugin cuFFT when one has already been registered\n",
            "2025-05-31 12:24:57.533028: E external/local_xla/xla/stream_executor/cuda/cuda_blas.cc:1515] Unable to register cuBLAS factory: Attempting to register factory for plugin cuBLAS when one has already been registered\n",
            "2025-05-31 12:24:57.540972: I tensorflow/core/platform/cpu_feature_guard.cc:182] This TensorFlow binary is optimized to use available CPU instructions in performance-critical operations.\n",
            "To enable the following instructions: AVX2 FMA, in other operations, rebuild TensorFlow with the appropriate compiler flags.\n",
            "2025-05-31 12:24:58.736877: W tensorflow/compiler/tf2tensorrt/utils/py_utils.cc:38] TF-TRT Warning: Could not find TensorRT\n",
            "Traceback (most recent call last):\n",
            "  File \"/content/automl/efficientdet/models/research/object_detection/builders/model_builder_tf2_test.py\", line 21, in <module>\n",
            "    import tensorflow.compat.v1 as tf\n",
            "  File \"/usr/local/lib/python3.11/dist-packages/tensorflow/__init__.py\", line 54, in <module>\n",
            "    from tensorflow._api.v2 import compat\n",
            "  File \"/usr/local/lib/python3.11/dist-packages/tensorflow/_api/v2/compat/__init__.py\", line 8, in <module>\n",
            "    from tensorflow._api.v2.compat import v1\n",
            "  File \"/usr/local/lib/python3.11/dist-packages/tensorflow/_api/v2/compat/v1/__init__.py\", line 32, in <module>\n",
            "    from tensorflow._api.v2.compat.v1 import compat\n",
            "  File \"/usr/local/lib/python3.11/dist-packages/tensorflow/_api/v2/compat/v1/compat/__init__.py\", line 8, in <module>\n",
            "    from tensorflow._api.v2.compat.v1.compat import v1\n",
            "  File \"/usr/local/lib/python3.11/dist-packages/tensorflow/_api/v2/compat/v1/compat/v1/__init__.py\", line 49, in <module>\n",
            "    from tensorflow._api.v2.compat.v1 import lite\n",
            "  File \"/usr/local/lib/python3.11/dist-packages/tensorflow/_api/v2/compat/v1/lite/__init__.py\", line 9, in <module>\n",
            "    from tensorflow._api.v2.compat.v1.lite import experimental\n",
            "  File \"/usr/local/lib/python3.11/dist-packages/tensorflow/_api/v2/compat/v1/lite/experimental/__init__.py\", line 8, in <module>\n",
            "    from tensorflow._api.v2.compat.v1.lite.experimental import authoring\n",
            "  File \"/usr/local/lib/python3.11/dist-packages/tensorflow/_api/v2/compat/v1/lite/experimental/authoring/__init__.py\", line 8, in <module>\n",
            "    from tensorflow.lite.python.authoring.authoring import compatible # line: 265\n",
            "    ^^^^^^^^^^^^^^^^^^^^^^^^^^^^^^^^^^^^^^^^^^^^^^^^^^^^^^^^^^^^^^^^^\n",
            "  File \"/usr/local/lib/python3.11/dist-packages/tensorflow/lite/python/authoring/authoring.py\", line 43, in <module>\n",
            "    from tensorflow.lite.python import convert\n",
            "  File \"/usr/local/lib/python3.11/dist-packages/tensorflow/lite/python/convert.py\", line 29, in <module>\n",
            "    from tensorflow.lite.python import util\n",
            "  File \"/usr/local/lib/python3.11/dist-packages/tensorflow/lite/python/util.py\", line 51, in <module>\n",
            "    from jax import xla_computation as _xla_computation\n",
            "  File \"/usr/local/lib/python3.11/dist-packages/jax/__init__.py\", line 37, in <module>\n",
            "    import jax.core as _core\n",
            "  File \"/usr/local/lib/python3.11/dist-packages/jax/core.py\", line 18, in <module>\n",
            "    from jax._src.core import (\n",
            "  File \"/usr/local/lib/python3.11/dist-packages/jax/_src/core.py\", line 37, in <module>\n",
            "    from jax._src import dtypes\n",
            "  File \"/usr/local/lib/python3.11/dist-packages/jax/_src/dtypes.py\", line 521, in <module>\n",
            "    if hasattr(np.dtypes, 'StringDType') and xla_extension_version >= 311:\n",
            "               ^^^^^^^^^\n",
            "  File \"/usr/local/lib/python3.11/dist-packages/numpy/__init__.py\", line 311, in __getattr__\n",
            "    raise AttributeError(\"module {!r} has no attribute \"\n",
            "AttributeError: module 'numpy' has no attribute 'dtypes'. Did you mean: 'dtype'?\n"
          ]
        }
      ],
      "source": [
        "# 1. Clonar repositorio y configurar entorno\n",
        "!git clone https://github.com/google/automl.git\n",
        "%cd automl/efficientdet\n",
        "!pip install -r requirements.txt\n",
        "!pip install tf_slim pycocotools lvis\n",
        "\n",
        "!git clone https://github.com/tensorflow/models.git\n",
        "%cd models/research\n",
        "\n",
        "# Instala las dependencias\n",
        "!pip install tf_slim pycocotools lvis\n",
        "\n",
        "# Compila los protos\n",
        "!protoc object_detection/protos/*.proto --python_out=.\n",
        "\n",
        "# Agrega al PYTHONPATH\n",
        "import os\n",
        "os.environ['PYTHONPATH'] += ':/content/models:/content/models/research:/content/models/research/slim'\n",
        "\n",
        "# Test de instalación\n",
        "!python object_detection/builders/model_builder_tf2_test.py"
      ]
    },
    {
      "cell_type": "markdown",
      "source": [
        "# **🧩 1. Configuración del entorno en Google Colab**"
      ],
      "metadata": {
        "id": "nCkE5noMO47H"
      }
    },
    {
      "cell_type": "code",
      "source": [
        "# 2. Instalar TensorFlow compatible\n",
        "!pip install tensorflow-gpu==2.12.0"
      ],
      "metadata": {
        "colab": {
          "base_uri": "https://localhost:8080/"
        },
        "id": "6u7jypTwi-gC",
        "outputId": "71e470af-293c-44a7-cb2b-e9b76ca05a29"
      },
      "execution_count": 2,
      "outputs": [
        {
          "output_type": "stream",
          "name": "stdout",
          "text": [
            "Collecting tensorflow-gpu==2.12.0\n",
            "  Downloading tensorflow-gpu-2.12.0.tar.gz (2.6 kB)\n",
            "  \u001b[1;31merror\u001b[0m: \u001b[1msubprocess-exited-with-error\u001b[0m\n",
            "  \n",
            "  \u001b[31m×\u001b[0m \u001b[32mpython setup.py egg_info\u001b[0m did not run successfully.\n",
            "  \u001b[31m│\u001b[0m exit code: \u001b[1;36m1\u001b[0m\n",
            "  \u001b[31m╰─>\u001b[0m See above for output.\n",
            "  \n",
            "  \u001b[1;35mnote\u001b[0m: This error originates from a subprocess, and is likely not a problem with pip.\n",
            "  Preparing metadata (setup.py) ... \u001b[?25l\u001b[?25herror\n",
            "\u001b[1;31merror\u001b[0m: \u001b[1mmetadata-generation-failed\u001b[0m\n",
            "\n",
            "\u001b[31m×\u001b[0m Encountered error while generating package metadata.\n",
            "\u001b[31m╰─>\u001b[0m See above for output.\n",
            "\n",
            "\u001b[1;35mnote\u001b[0m: This is an issue with the package mentioned above, not pip.\n",
            "\u001b[1;36mhint\u001b[0m: See above for details.\n"
          ]
        }
      ]
    },
    {
      "cell_type": "code",
      "source": [
        "# 3. Descargar pesos preentrenados (opcional para fine-tuning)\n",
        "!wget https://storage.googleapis.com/cloud-tpu-checkpoints/efficientdet/coco/efficientdet-d0.tar.gz\n",
        "!tar -xzvf efficientdet-d0.tar.gz"
      ],
      "metadata": {
        "colab": {
          "base_uri": "https://localhost:8080/"
        },
        "id": "_kUawMzYjIi9",
        "outputId": "2b4955f2-ac7a-4e05-ce8e-a535fee2666a"
      },
      "execution_count": 5,
      "outputs": [
        {
          "output_type": "stream",
          "name": "stdout",
          "text": [
            "--2025-05-31 08:57:56--  https://storage.googleapis.com/cloud-tpu-checkpoints/efficientdet/coco/efficientdet-d0.tar.gz\n",
            "Resolving storage.googleapis.com (storage.googleapis.com)... 142.250.65.123, 172.217.164.27, 172.217.0.91, ...\n",
            "Connecting to storage.googleapis.com (storage.googleapis.com)|142.250.65.123|:443... connected.\n",
            "HTTP request sent, awaiting response... 200 OK\n",
            "Length: 28994253 (28M) [application/octet-stream]\n",
            "Saving to: ‘efficientdet-d0.tar.gz’\n",
            "\n",
            "efficientdet-d0.tar 100%[===================>]  27.65M   121MB/s    in 0.2s    \n",
            "\n",
            "2025-05-31 08:57:57 (121 MB/s) - ‘efficientdet-d0.tar.gz’ saved [28994253/28994253]\n",
            "\n",
            "efficientdet-d0/\n",
            "efficientdet-d0/model.meta\n",
            "efficientdet-d0/model.index\n",
            "efficientdet-d0/checkpoint\n",
            "efficientdet-d0/d0_coco_val.txt\n",
            "efficientdet-d0/model.data-00000-of-00001\n",
            "efficientdet-d0/d0_coco_test-dev2017.txt\n"
          ]
        }
      ]
    },
    {
      "cell_type": "code",
      "source": [
        "# Montar Google Drive (opcional, si usarás archivos desde allí)\n",
        "from google.colab import drive\n",
        "drive.mount('/content/drive')"
      ],
      "metadata": {
        "id": "6QFty4zLPtpY"
      },
      "execution_count": null,
      "outputs": []
    },
    {
      "cell_type": "code",
      "source": [
        "#cargar imagenes de Roboflow\n",
        "!pip install roboflow\n",
        "\n",
        "from roboflow import Roboflow\n",
        "rf = Roboflow(api_key=\"lX9sE2RPQOCv2R7cn0io\")\n",
        "project = rf.workspace(\"jota22\").project(\"am_boundingbox\")\n",
        "version = project.version(25)\n",
        "dataset = version.download(\"tfrecord\")\n",
        ""
      ],
      "metadata": {
        "colab": {
          "base_uri": "https://localhost:8080/"
        },
        "id": "74k5vsIyPCap",
        "outputId": "684cf01c-ec7a-448f-9271-8be75347014f"
      },
      "execution_count": 3,
      "outputs": [
        {
          "output_type": "stream",
          "name": "stdout",
          "text": [
            "Collecting roboflow\n",
            "  Downloading roboflow-1.1.65-py3-none-any.whl.metadata (9.7 kB)\n",
            "Requirement already satisfied: certifi in /usr/local/lib/python3.11/dist-packages (from roboflow) (2025.4.26)\n",
            "Collecting idna==3.7 (from roboflow)\n",
            "  Downloading idna-3.7-py3-none-any.whl.metadata (9.9 kB)\n",
            "Requirement already satisfied: cycler in /usr/local/lib/python3.11/dist-packages (from roboflow) (0.12.1)\n",
            "Requirement already satisfied: kiwisolver>=1.3.1 in /usr/local/lib/python3.11/dist-packages (from roboflow) (1.4.8)\n",
            "Requirement already satisfied: matplotlib in /usr/local/lib/python3.11/dist-packages (from roboflow) (3.10.0)\n",
            "Requirement already satisfied: numpy>=1.18.5 in /usr/local/lib/python3.11/dist-packages (from roboflow) (1.23.5)\n",
            "Collecting opencv-python-headless==4.10.0.84 (from roboflow)\n",
            "  Downloading opencv_python_headless-4.10.0.84-cp37-abi3-manylinux_2_17_x86_64.manylinux2014_x86_64.whl.metadata (20 kB)\n",
            "Requirement already satisfied: Pillow>=7.1.2 in /usr/local/lib/python3.11/dist-packages (from roboflow) (11.2.1)\n",
            "Collecting pillow-heif>=0.18.0 (from roboflow)\n",
            "  Downloading pillow_heif-0.22.0-cp311-cp311-manylinux_2_17_x86_64.manylinux2014_x86_64.whl.metadata (9.6 kB)\n",
            "Requirement already satisfied: python-dateutil in /usr/local/lib/python3.11/dist-packages (from roboflow) (2.9.0.post0)\n",
            "Collecting python-dotenv (from roboflow)\n",
            "  Downloading python_dotenv-1.1.0-py3-none-any.whl.metadata (24 kB)\n",
            "Requirement already satisfied: requests in /usr/local/lib/python3.11/dist-packages (from roboflow) (2.32.3)\n",
            "Requirement already satisfied: six in /usr/local/lib/python3.11/dist-packages (from roboflow) (1.17.0)\n",
            "Requirement already satisfied: urllib3>=1.26.6 in /usr/local/lib/python3.11/dist-packages (from roboflow) (2.4.0)\n",
            "Requirement already satisfied: tqdm>=4.41.0 in /usr/local/lib/python3.11/dist-packages (from roboflow) (4.67.1)\n",
            "Requirement already satisfied: PyYAML>=5.3.1 in /usr/local/lib/python3.11/dist-packages (from roboflow) (6.0.2)\n",
            "Requirement already satisfied: requests-toolbelt in /usr/local/lib/python3.11/dist-packages (from roboflow) (1.0.0)\n",
            "Collecting filetype (from roboflow)\n",
            "  Downloading filetype-1.2.0-py2.py3-none-any.whl.metadata (6.5 kB)\n",
            "Requirement already satisfied: contourpy>=1.0.1 in /usr/local/lib/python3.11/dist-packages (from matplotlib->roboflow) (1.3.2)\n",
            "Requirement already satisfied: fonttools>=4.22.0 in /usr/local/lib/python3.11/dist-packages (from matplotlib->roboflow) (4.58.0)\n",
            "Requirement already satisfied: packaging>=20.0 in /usr/local/lib/python3.11/dist-packages (from matplotlib->roboflow) (24.2)\n",
            "Requirement already satisfied: pyparsing>=2.3.1 in /usr/local/lib/python3.11/dist-packages (from matplotlib->roboflow) (3.2.3)\n",
            "Requirement already satisfied: charset-normalizer<4,>=2 in /usr/local/lib/python3.11/dist-packages (from requests->roboflow) (3.4.2)\n",
            "Downloading roboflow-1.1.65-py3-none-any.whl (85 kB)\n",
            "\u001b[2K   \u001b[90m━━━━━━━━━━━━━━━━━━━━━━━━━━━━━━━━━━━━━━━━\u001b[0m \u001b[32m85.8/85.8 kB\u001b[0m \u001b[31m8.1 MB/s\u001b[0m eta \u001b[36m0:00:00\u001b[0m\n",
            "\u001b[?25hDownloading idna-3.7-py3-none-any.whl (66 kB)\n",
            "\u001b[2K   \u001b[90m━━━━━━━━━━━━━━━━━━━━━━━━━━━━━━━━━━━━━━━━\u001b[0m \u001b[32m66.8/66.8 kB\u001b[0m \u001b[31m6.2 MB/s\u001b[0m eta \u001b[36m0:00:00\u001b[0m\n",
            "\u001b[?25hDownloading opencv_python_headless-4.10.0.84-cp37-abi3-manylinux_2_17_x86_64.manylinux2014_x86_64.whl (49.9 MB)\n",
            "\u001b[2K   \u001b[90m━━━━━━━━━━━━━━━━━━━━━━━━━━━━━━━━━━━━━━━━\u001b[0m \u001b[32m49.9/49.9 MB\u001b[0m \u001b[31m19.1 MB/s\u001b[0m eta \u001b[36m0:00:00\u001b[0m\n",
            "\u001b[?25hDownloading pillow_heif-0.22.0-cp311-cp311-manylinux_2_17_x86_64.manylinux2014_x86_64.whl (7.8 MB)\n",
            "\u001b[2K   \u001b[90m━━━━━━━━━━━━━━━━━━━━━━━━━━━━━━━━━━━━━━━━\u001b[0m \u001b[32m7.8/7.8 MB\u001b[0m \u001b[31m110.6 MB/s\u001b[0m eta \u001b[36m0:00:00\u001b[0m\n",
            "\u001b[?25hDownloading filetype-1.2.0-py2.py3-none-any.whl (19 kB)\n",
            "Downloading python_dotenv-1.1.0-py3-none-any.whl (20 kB)\n",
            "Installing collected packages: filetype, python-dotenv, pillow-heif, opencv-python-headless, idna, roboflow\n",
            "  Attempting uninstall: opencv-python-headless\n",
            "    Found existing installation: opencv-python-headless 4.11.0.86\n",
            "    Uninstalling opencv-python-headless-4.11.0.86:\n",
            "      Successfully uninstalled opencv-python-headless-4.11.0.86\n",
            "  Attempting uninstall: idna\n",
            "    Found existing installation: idna 3.10\n",
            "    Uninstalling idna-3.10:\n",
            "      Successfully uninstalled idna-3.10\n",
            "\u001b[31mERROR: pip's dependency resolver does not currently take into account all the packages that are installed. This behaviour is the source of the following dependency conflicts.\n",
            "albucore 0.0.24 requires numpy>=1.24.4, but you have numpy 1.23.5 which is incompatible.\n",
            "bigframes 2.4.0 requires numpy>=1.24.0, but you have numpy 1.23.5 which is incompatible.\n",
            "albumentations 2.0.7 requires numpy>=1.24.4, but you have numpy 1.23.5 which is incompatible.\u001b[0m\u001b[31m\n",
            "\u001b[0mSuccessfully installed filetype-1.2.0 idna-3.7 opencv-python-headless-4.10.0.84 pillow-heif-0.22.0 python-dotenv-1.1.0 roboflow-1.1.65\n",
            "loading Roboflow workspace...\n",
            "loading Roboflow project...\n"
          ]
        },
        {
          "output_type": "stream",
          "name": "stderr",
          "text": [
            "Downloading Dataset Version Zip in AM_BoundingBox-25 to tfrecord:: 100%|██████████| 8256/8256 [00:00<00:00, 31589.63it/s]"
          ]
        },
        {
          "output_type": "stream",
          "name": "stdout",
          "text": [
            "\n"
          ]
        },
        {
          "output_type": "stream",
          "name": "stderr",
          "text": [
            "\n",
            "Extracting Dataset Version Zip to AM_BoundingBox-25 in tfrecord:: 100%|██████████| 11/11 [00:00<00:00, 494.89it/s]\n"
          ]
        }
      ]
    },
    {
      "cell_type": "markdown",
      "source": [
        "# **⚙️ 3. Crear y ajustar el archivo de configuración EfficientDet (ejemplo con D0)**"
      ],
      "metadata": {
        "id": "7-ec8VGNQCJG"
      }
    },
    {
      "cell_type": "code",
      "source": [
        "config_text = \"\"\"\n",
        "\n",
        "num_classes: 1\n",
        "\n",
        "label_map: {1: \"defect\"}\n",
        "\n",
        "\n",
        "\n",
        "\n",
        "optimizer:\n",
        "  optimizer: sgd\n",
        "  optimizer_params:  # Parámetros adicionales (opcional)\n",
        "  momentum: 0.9\n",
        "  learning_rate:\n",
        "    initial_learning_rate: 0.08\n",
        "    decay_steps: 1000\n",
        "    decay_rate: 0.96\n",
        "\n",
        "\"\"\"\n",
        "\n",
        "import os\n",
        "os.makedirs(\"config\", exist_ok=True)\n",
        "with open(\"config/efficientdet-d2-config.yaml\", \"w\") as f:\n",
        "    f.write(config_text.strip())  # .strip() para eliminar espacios extras"
      ],
      "metadata": {
        "id": "JWcXcnQejOGK"
      },
      "execution_count": 4,
      "outputs": []
    },
    {
      "cell_type": "code",
      "source": [
        "!cat config/efficientdet-d2-config.yaml"
      ],
      "metadata": {
        "colab": {
          "base_uri": "https://localhost:8080/"
        },
        "id": "pHHzpRr4B8pM",
        "outputId": "107398ac-24ed-4de4-e63d-f2e8b5b1f80c"
      },
      "execution_count": 5,
      "outputs": [
        {
          "output_type": "stream",
          "name": "stdout",
          "text": [
            "num_classes: 1\n",
            "\n",
            "label_map: {1: \"defect\"}\n",
            "\n",
            "\n",
            "\n",
            "\n",
            "optimizer:\n",
            "  optimizer: sgd\n",
            "  optimizer_params:  # Parámetros adicionales (opcional)\n",
            "  momentum: 0.9\n",
            "  learning_rate:\n",
            "    initial_learning_rate: 0.08\n",
            "    decay_steps: 1000\n",
            "    decay_rate: 0.96"
          ]
        }
      ]
    },
    {
      "cell_type": "code",
      "source": [
        "!ls /content/automl/efficientdet/config/efficientdet-d2-config.yaml  # Debe mostrar el archivo"
      ],
      "metadata": {
        "colab": {
          "base_uri": "https://localhost:8080/"
        },
        "id": "QdiMxZkkCpvg",
        "outputId": "75f4d2dd-71cb-4581-f798-7125770c5b6e"
      },
      "execution_count": 6,
      "outputs": [
        {
          "output_type": "stream",
          "name": "stdout",
          "text": [
            "ls: cannot access '/content/automl/efficientdet/config/efficientdet-d2-config.yaml': No such file or directory\n"
          ]
        }
      ]
    },
    {
      "cell_type": "code",
      "source": [
        "!mkdir /content/training1\n",
        "!cp /content/automl/efficientdet/models/research/object_detection/configs/tf2/ssd_efficientdet_d2_768x768_coco17_tpu-8.config /content/training/efficientdet.config\n"
      ],
      "metadata": {
        "colab": {
          "base_uri": "https://localhost:8080/"
        },
        "id": "rbGOgsW9QBdn",
        "outputId": "7c8219ee-b107-420f-87fc-40cc028be4f5"
      },
      "execution_count": 50,
      "outputs": [
        {
          "output_type": "stream",
          "name": "stdout",
          "text": [
            "mkdir: cannot create directory ‘/content/training1’: File exists\n"
          ]
        }
      ]
    },
    {
      "cell_type": "markdown",
      "source": [
        "# **Entrenar modelo**"
      ],
      "metadata": {
        "id": "u1k-9AYNJfGG"
      }
    },
    {
      "cell_type": "code",
      "source": [
        "# 6. Entrenar el modelo\n",
        "%cd /content/automl/efficientdet\n",
        "\n",
        "!python main.py \\\n",
        "  --model_name=efficientdet-d2 \\\n",
        "  --mode=train \\\n",
        "  --train_file_pattern=/content/automl/efficientdet/AM_BoundingBox-25/train/DEFECTOS.tfrecord \\\n",
        "  --val_file_pattern=/content/automl/efficientdet/AM_BoundingBox-25/valid/DEFECTOS.tfrecord \\\n",
        "  --model_dir=/content/efficientdet_d2_model \\\n",
        "  --hparams=/content/automl/efficientdet/config/efficientdet-d2-config.yaml\n",
        "  --batch_size=8 \\\n",
        "  --image_size=768 \\\n",
        "  --num_epochs=250 \\\n",
        "  --optimizer=adam"
      ],
      "metadata": {
        "colab": {
          "base_uri": "https://localhost:8080/"
        },
        "id": "Dsq2isccJYWD",
        "outputId": "0ac8895c-826c-4d0d-ef08-e5c631327dc7"
      },
      "execution_count": 64,
      "outputs": [
        {
          "output_type": "stream",
          "name": "stdout",
          "text": [
            "/content/automl/efficientdet\n",
            "2025-05-31 11:24:21.058658: I tensorflow/tsl/cuda/cudart_stub.cc:28] Could not find cuda drivers on your machine, GPU will not be used.\n",
            "2025-05-31 11:24:21.109914: I tensorflow/tsl/cuda/cudart_stub.cc:28] Could not find cuda drivers on your machine, GPU will not be used.\n",
            "2025-05-31 11:24:21.110397: I tensorflow/core/platform/cpu_feature_guard.cc:182] This TensorFlow binary is optimized to use available CPU instructions in performance-critical operations.\n",
            "To enable the following instructions: AVX2 FMA, in other operations, rebuild TensorFlow with the appropriate compiler flags.\n",
            "2025-05-31 11:24:22.009987: W tensorflow/compiler/tf2tensorrt/utils/py_utils.cc:38] TF-TRT Warning: Could not find TensorRT\n",
            "2025-05-31 11:24:24.062253: I tensorflow/compiler/xla/stream_executor/cuda/cuda_gpu_executor.cc:996] successful NUMA node read from SysFS had negative value (-1), but there must be at least one NUMA node, so returning NUMA node zero. See more at https://github.com/torvalds/linux/blob/v6.0/Documentation/ABI/testing/sysfs-bus-pci#L344-L355\n",
            "2025-05-31 11:24:24.108271: W tensorflow/core/common_runtime/gpu/gpu_device.cc:1956] Cannot dlopen some GPU libraries. Please make sure the missing libraries mentioned above are installed properly if you would like to use GPU. Follow the guide at https://www.tensorflow.org/install/gpu for how to download and setup the required libraries for your platform.\n",
            "Skipping registering GPU devices...\n",
            "I0531 11:24:24.110003 135446340427776 main.py:228] {'name': 'efficientdet-d2', 'act_type': 'swish', 'image_size': (768, 768), 'target_size': None, 'input_rand_hflip': True, 'jitter_min': 0.1, 'jitter_max': 2.0, 'autoaugment_policy': None, 'grid_mask': False, 'sample_image': None, 'map_freq': 5, 'num_classes': 1, 'seg_num_classes': 3, 'heads': ['object_detection'], 'skip_crowd_during_training': True, 'label_map': {1: 'defect'}, 'max_instances_per_image': 100, 'regenerate_source_id': False, 'min_level': 3, 'max_level': 7, 'num_scales': 3, 'aspect_ratios': [1.0, 2.0, 0.5], 'anchor_scale': 4.0, 'is_training_bn': True, 'momentum': 0.9, 'optimizer': {'type': 'sgd', 'momentum': 0.9, 'learning_rate': {'initial_learning_rate': 0.08, 'decay_steps': 1000, 'decay_rate': 0.96}}, 'learning_rate': 0.08, 'lr_warmup_init': 0.008, 'lr_warmup_epoch': 1.0, 'first_lr_drop_epoch': 200.0, 'second_lr_drop_epoch': 250.0, 'poly_lr_power': 0.9, 'clip_gradients_norm': 10.0, 'num_epochs': 300, 'data_format': 'channels_last', 'mean_rgb': [123.675, 116.28, 103.53], 'stddev_rgb': [58.395, 57.120000000000005, 57.375], 'scale_range': False, 'label_smoothing': 0.0, 'alpha': 0.25, 'gamma': 1.5, 'delta': 0.1, 'box_loss_weight': 50.0, 'iou_loss_type': None, 'iou_loss_weight': 1.0, 'weight_decay': 4e-05, 'strategy': None, 'mixed_precision': False, 'loss_scale': None, 'box_class_repeats': 3, 'fpn_cell_repeats': 5, 'fpn_num_filters': 112, 'separable_conv': True, 'apply_bn_for_resampling': True, 'conv_after_downsample': False, 'conv_bn_act_pattern': False, 'drop_remainder': True, 'nms_configs': {'method': 'gaussian', 'iou_thresh': None, 'score_thresh': 0.0, 'sigma': None, 'pyfunc': False, 'max_nms_inputs': 0, 'max_output_size': 100}, 'tflite_max_detections': 100, 'fpn_name': None, 'fpn_weight_method': None, 'fpn_config': None, 'survival_prob': None, 'img_summary_steps': None, 'lr_decay_method': 'cosine', 'moving_average_decay': 0.9998, 'ckpt_var_scope': None, 'skip_mismatch': True, 'backbone_name': 'efficientnet-b2', 'backbone_config': None, 'var_freeze_expr': None, 'use_keras_model': True, 'dataset_type': None, 'positives_momentum': None, 'grad_checkpoint': False, 'verbose': 1, 'save_freq': 'epoch', 'model_name': 'efficientdet-d2', 'iterations_per_loop': 1000, 'model_dir': '/content/efficientdet_d2_model', 'num_shards': 8, 'num_examples_per_epoch': 120000, 'backbone_ckpt': '', 'ckpt': None, 'val_json_file': None, 'testdev_dir': None, 'profile': False, 'mode': 'train'}\n",
            "WARNING:tensorflow:From /content/automl/efficientdet/main.py:276: RunConfig.__init__ (from tensorflow_estimator.python.estimator.run_config) is deprecated and will be removed in a future version.\n",
            "Instructions for updating:\n",
            "Use tf.keras instead.\n",
            "W0531 11:24:24.180186 135446340427776 deprecation.py:364] From /content/automl/efficientdet/main.py:276: RunConfig.__init__ (from tensorflow_estimator.python.estimator.run_config) is deprecated and will be removed in a future version.\n",
            "Instructions for updating:\n",
            "Use tf.keras instead.\n",
            "WARNING:tensorflow:From /content/automl/efficientdet/main.py:288: Estimator.__init__ (from tensorflow_estimator.python.estimator.estimator) is deprecated and will be removed in a future version.\n",
            "Instructions for updating:\n",
            "Use tf.keras instead.\n",
            "W0531 11:24:24.180459 135446340427776 deprecation.py:364] From /content/automl/efficientdet/main.py:288: Estimator.__init__ (from tensorflow_estimator.python.estimator.estimator) is deprecated and will be removed in a future version.\n",
            "Instructions for updating:\n",
            "Use tf.keras instead.\n",
            "INFO:tensorflow:Using config: {'_model_dir': '/content/efficientdet_d2_model', '_tf_random_seed': None, '_save_summary_steps': 100, '_save_checkpoints_steps': 1000, '_save_checkpoints_secs': None, '_session_config': allow_soft_placement: true\n",
            ", '_keep_checkpoint_max': 5, '_keep_checkpoint_every_n_hours': 10000, '_log_step_count_steps': 1000, '_train_distribute': None, '_device_fn': None, '_protocol': None, '_eval_distribute': None, '_experimental_distribute': None, '_experimental_max_worker_delay_secs': None, '_session_creation_timeout_secs': 7200, '_checkpoint_save_graph_def': True, '_service': None, '_cluster_spec': ClusterSpec({}), '_task_type': 'worker', '_task_id': 0, '_global_id_in_cluster': 0, '_master': '', '_evaluation_master': '', '_is_chief': True, '_num_ps_replicas': 0, '_num_worker_replicas': 1}\n",
            "I0531 11:24:24.180711 135446340427776 estimator.py:202] Using config: {'_model_dir': '/content/efficientdet_d2_model', '_tf_random_seed': None, '_save_summary_steps': 100, '_save_checkpoints_steps': 1000, '_save_checkpoints_secs': None, '_session_config': allow_soft_placement: true\n",
            ", '_keep_checkpoint_max': 5, '_keep_checkpoint_every_n_hours': 10000, '_log_step_count_steps': 1000, '_train_distribute': None, '_device_fn': None, '_protocol': None, '_eval_distribute': None, '_experimental_distribute': None, '_experimental_max_worker_delay_secs': None, '_session_creation_timeout_secs': 7200, '_checkpoint_save_graph_def': True, '_service': None, '_cluster_spec': ClusterSpec({}), '_task_type': 'worker', '_task_id': 0, '_global_id_in_cluster': 0, '_master': '', '_evaluation_master': '', '_is_chief': True, '_num_ps_replicas': 0, '_num_worker_replicas': 1}\n",
            "INFO:tensorflow:Using config: {'_model_dir': '/content/efficientdet_d2_model', '_tf_random_seed': None, '_save_summary_steps': 100, '_save_checkpoints_steps': 1000, '_save_checkpoints_secs': None, '_session_config': allow_soft_placement: true\n",
            ", '_keep_checkpoint_max': 5, '_keep_checkpoint_every_n_hours': 10000, '_log_step_count_steps': 1000, '_train_distribute': None, '_device_fn': None, '_protocol': None, '_eval_distribute': None, '_experimental_distribute': None, '_experimental_max_worker_delay_secs': None, '_session_creation_timeout_secs': 7200, '_checkpoint_save_graph_def': True, '_service': None, '_cluster_spec': ClusterSpec({}), '_task_type': 'worker', '_task_id': 0, '_global_id_in_cluster': 0, '_master': '', '_evaluation_master': '', '_is_chief': True, '_num_ps_replicas': 0, '_num_worker_replicas': 1}\n",
            "I0531 11:24:24.181300 135446340427776 estimator.py:202] Using config: {'_model_dir': '/content/efficientdet_d2_model', '_tf_random_seed': None, '_save_summary_steps': 100, '_save_checkpoints_steps': 1000, '_save_checkpoints_secs': None, '_session_config': allow_soft_placement: true\n",
            ", '_keep_checkpoint_max': 5, '_keep_checkpoint_every_n_hours': 10000, '_log_step_count_steps': 1000, '_train_distribute': None, '_device_fn': None, '_protocol': None, '_eval_distribute': None, '_experimental_distribute': None, '_experimental_max_worker_delay_secs': None, '_session_creation_timeout_secs': 7200, '_checkpoint_save_graph_def': True, '_service': None, '_cluster_spec': ClusterSpec({}), '_task_type': 'worker', '_task_id': 0, '_global_id_in_cluster': 0, '_master': '', '_evaluation_master': '', '_is_chief': True, '_num_ps_replicas': 0, '_num_worker_replicas': 1}\n",
            "WARNING:tensorflow:From /usr/local/lib/python3.11/dist-packages/tensorflow_estimator/python/estimator/estimator.py:385: StopAtStepHook.__init__ (from tensorflow.python.training.basic_session_run_hooks) is deprecated and will be removed in a future version.\n",
            "Instructions for updating:\n",
            "Use tf.keras instead.\n",
            "W0531 11:24:24.181763 135446340427776 deprecation.py:364] From /usr/local/lib/python3.11/dist-packages/tensorflow_estimator/python/estimator/estimator.py:385: StopAtStepHook.__init__ (from tensorflow.python.training.basic_session_run_hooks) is deprecated and will be removed in a future version.\n",
            "Instructions for updating:\n",
            "Use tf.keras instead.\n",
            "WARNING:tensorflow:From /usr/local/lib/python3.11/dist-packages/tensorflow/python/training/training_util.py:396: Variable.initialized_value (from tensorflow.python.ops.variables) is deprecated and will be removed in a future version.\n",
            "Instructions for updating:\n",
            "Use Variable.read_value. Variables in 2.X are initialized automatically both in eager and graph (inside tf.defun) contexts.\n",
            "W0531 11:24:24.186808 135446340427776 deprecation.py:364] From /usr/local/lib/python3.11/dist-packages/tensorflow/python/training/training_util.py:396: Variable.initialized_value (from tensorflow.python.ops.variables) is deprecated and will be removed in a future version.\n",
            "Instructions for updating:\n",
            "Use Variable.read_value. Variables in 2.X are initialized automatically both in eager and graph (inside tf.defun) contexts.\n",
            "I0531 11:24:24.429454 135446340427776 dataloader.py:84] target_size = (768, 768), output_size = (768, 768)\n",
            "INFO:tensorflow:Calling model_fn.\n",
            "I0531 11:24:24.961833 135446340427776 estimator.py:1173] Calling model_fn.\n",
            "I0531 11:24:24.962052 135446340427776 utils.py:600] use mixed precision policy name float32\n",
            "WARNING:tensorflow:From /content/automl/efficientdet/utils.py:601: The name tf.keras.layers.enable_v2_dtype_behavior is deprecated. Please use tf.compat.v1.keras.layers.enable_v2_dtype_behavior instead.\n",
            "\n",
            "W0531 11:24:25.142139 135446340427776 module_wrapper.py:149] From /content/automl/efficientdet/utils.py:601: The name tf.keras.layers.enable_v2_dtype_behavior is deprecated. Please use tf.compat.v1.keras.layers.enable_v2_dtype_behavior instead.\n",
            "\n",
            "I0531 11:24:25.145518 135446340427776 efficientnet_builder.py:215] global_params= GlobalParams(batch_norm_momentum=0.99, batch_norm_epsilon=0.001, dropout_rate=0.3, data_format='channels_last', num_classes=1000, width_coefficient=1.1, depth_coefficient=1.2, depth_divisor=8, min_depth=None, survival_prob=0.8, relu_fn=functools.partial(<function activation_fn at 0x7b2fa043de40>, act_type='swish'), batch_norm=<class 'utils.BatchNormalization'>, use_se=True, local_pooling=None, condconv_num_experts=None, clip_projection_output=False, blocks_args=['r1_k3_s11_e1_i32_o16_se0.25', 'r2_k3_s22_e6_i16_o24_se0.25', 'r2_k5_s22_e6_i24_o40_se0.25', 'r3_k3_s22_e6_i40_o80_se0.25', 'r3_k5_s11_e6_i80_o112_se0.25', 'r4_k5_s22_e6_i112_o192_se0.25', 'r1_k3_s11_e6_i192_o320_se0.25'], fix_head_stem=None, grad_checkpoint=False)\n",
            "I0531 11:24:25.448688 135446340427776 efficientdet_keras.py:750] building FPNCell cell_0\n",
            "I0531 11:24:25.449017 135446340427776 efficientdet_keras.py:761] fnode 0 : {'feat_level': 6, 'inputs_offsets': [3, 4]}\n",
            "I0531 11:24:25.449833 135446340427776 efficientdet_keras.py:761] fnode 1 : {'feat_level': 5, 'inputs_offsets': [2, 5]}\n",
            "I0531 11:24:25.450606 135446340427776 efficientdet_keras.py:761] fnode 2 : {'feat_level': 4, 'inputs_offsets': [1, 6]}\n",
            "I0531 11:24:25.451340 135446340427776 efficientdet_keras.py:761] fnode 3 : {'feat_level': 3, 'inputs_offsets': [0, 7]}\n",
            "I0531 11:24:25.452096 135446340427776 efficientdet_keras.py:761] fnode 4 : {'feat_level': 4, 'inputs_offsets': [1, 7, 8]}\n",
            "I0531 11:24:25.452863 135446340427776 efficientdet_keras.py:761] fnode 5 : {'feat_level': 5, 'inputs_offsets': [2, 6, 9]}\n",
            "I0531 11:24:25.453588 135446340427776 efficientdet_keras.py:761] fnode 6 : {'feat_level': 6, 'inputs_offsets': [3, 5, 10]}\n",
            "I0531 11:24:25.454341 135446340427776 efficientdet_keras.py:761] fnode 7 : {'feat_level': 7, 'inputs_offsets': [4, 11]}\n",
            "I0531 11:24:25.455365 135446340427776 efficientdet_keras.py:750] building FPNCell cell_1\n",
            "I0531 11:24:25.455610 135446340427776 efficientdet_keras.py:761] fnode 0 : {'feat_level': 6, 'inputs_offsets': [3, 4]}\n",
            "I0531 11:24:25.456295 135446340427776 efficientdet_keras.py:761] fnode 1 : {'feat_level': 5, 'inputs_offsets': [2, 5]}\n",
            "I0531 11:24:25.457016 135446340427776 efficientdet_keras.py:761] fnode 2 : {'feat_level': 4, 'inputs_offsets': [1, 6]}\n",
            "I0531 11:24:25.457799 135446340427776 efficientdet_keras.py:761] fnode 3 : {'feat_level': 3, 'inputs_offsets': [0, 7]}\n",
            "I0531 11:24:25.458491 135446340427776 efficientdet_keras.py:761] fnode 4 : {'feat_level': 4, 'inputs_offsets': [1, 7, 8]}\n",
            "I0531 11:24:25.459170 135446340427776 efficientdet_keras.py:761] fnode 5 : {'feat_level': 5, 'inputs_offsets': [2, 6, 9]}\n",
            "I0531 11:24:25.459868 135446340427776 efficientdet_keras.py:761] fnode 6 : {'feat_level': 6, 'inputs_offsets': [3, 5, 10]}\n",
            "I0531 11:24:25.460601 135446340427776 efficientdet_keras.py:761] fnode 7 : {'feat_level': 7, 'inputs_offsets': [4, 11]}\n",
            "I0531 11:24:25.461530 135446340427776 efficientdet_keras.py:750] building FPNCell cell_2\n",
            "I0531 11:24:25.461791 135446340427776 efficientdet_keras.py:761] fnode 0 : {'feat_level': 6, 'inputs_offsets': [3, 4]}\n",
            "I0531 11:24:25.462565 135446340427776 efficientdet_keras.py:761] fnode 1 : {'feat_level': 5, 'inputs_offsets': [2, 5]}\n",
            "I0531 11:24:25.463271 135446340427776 efficientdet_keras.py:761] fnode 2 : {'feat_level': 4, 'inputs_offsets': [1, 6]}\n",
            "I0531 11:24:25.463946 135446340427776 efficientdet_keras.py:761] fnode 3 : {'feat_level': 3, 'inputs_offsets': [0, 7]}\n",
            "I0531 11:24:25.464613 135446340427776 efficientdet_keras.py:761] fnode 4 : {'feat_level': 4, 'inputs_offsets': [1, 7, 8]}\n",
            "I0531 11:24:25.465304 135446340427776 efficientdet_keras.py:761] fnode 5 : {'feat_level': 5, 'inputs_offsets': [2, 6, 9]}\n",
            "I0531 11:24:25.465983 135446340427776 efficientdet_keras.py:761] fnode 6 : {'feat_level': 6, 'inputs_offsets': [3, 5, 10]}\n",
            "I0531 11:24:25.466664 135446340427776 efficientdet_keras.py:761] fnode 7 : {'feat_level': 7, 'inputs_offsets': [4, 11]}\n",
            "I0531 11:24:25.467626 135446340427776 efficientdet_keras.py:750] building FPNCell cell_3\n",
            "I0531 11:24:25.467868 135446340427776 efficientdet_keras.py:761] fnode 0 : {'feat_level': 6, 'inputs_offsets': [3, 4]}\n",
            "I0531 11:24:25.468555 135446340427776 efficientdet_keras.py:761] fnode 1 : {'feat_level': 5, 'inputs_offsets': [2, 5]}\n",
            "I0531 11:24:25.469263 135446340427776 efficientdet_keras.py:761] fnode 2 : {'feat_level': 4, 'inputs_offsets': [1, 6]}\n",
            "I0531 11:24:25.469944 135446340427776 efficientdet_keras.py:761] fnode 3 : {'feat_level': 3, 'inputs_offsets': [0, 7]}\n",
            "I0531 11:24:25.470619 135446340427776 efficientdet_keras.py:761] fnode 4 : {'feat_level': 4, 'inputs_offsets': [1, 7, 8]}\n",
            "I0531 11:24:25.471313 135446340427776 efficientdet_keras.py:761] fnode 5 : {'feat_level': 5, 'inputs_offsets': [2, 6, 9]}\n",
            "I0531 11:24:25.472139 135446340427776 efficientdet_keras.py:761] fnode 6 : {'feat_level': 6, 'inputs_offsets': [3, 5, 10]}\n",
            "I0531 11:24:25.472819 135446340427776 efficientdet_keras.py:761] fnode 7 : {'feat_level': 7, 'inputs_offsets': [4, 11]}\n",
            "I0531 11:24:25.473730 135446340427776 efficientdet_keras.py:750] building FPNCell cell_4\n",
            "I0531 11:24:25.474010 135446340427776 efficientdet_keras.py:761] fnode 0 : {'feat_level': 6, 'inputs_offsets': [3, 4]}\n",
            "I0531 11:24:25.474687 135446340427776 efficientdet_keras.py:761] fnode 1 : {'feat_level': 5, 'inputs_offsets': [2, 5]}\n",
            "I0531 11:24:25.475428 135446340427776 efficientdet_keras.py:761] fnode 2 : {'feat_level': 4, 'inputs_offsets': [1, 6]}\n",
            "I0531 11:24:25.476274 135446340427776 efficientdet_keras.py:761] fnode 3 : {'feat_level': 3, 'inputs_offsets': [0, 7]}\n",
            "I0531 11:24:25.477041 135446340427776 efficientdet_keras.py:761] fnode 4 : {'feat_level': 4, 'inputs_offsets': [1, 7, 8]}\n",
            "I0531 11:24:25.477717 135446340427776 efficientdet_keras.py:761] fnode 5 : {'feat_level': 5, 'inputs_offsets': [2, 6, 9]}\n",
            "I0531 11:24:25.478425 135446340427776 efficientdet_keras.py:761] fnode 6 : {'feat_level': 6, 'inputs_offsets': [3, 5, 10]}\n",
            "I0531 11:24:25.479124 135446340427776 efficientdet_keras.py:761] fnode 7 : {'feat_level': 7, 'inputs_offsets': [4, 11]}\n",
            "WARNING:tensorflow:From /usr/local/lib/python3.11/dist-packages/keras/layers/normalization/batch_normalization.py:581: _colocate_with (from tensorflow.python.framework.ops) is deprecated and will be removed in a future version.\n",
            "Instructions for updating:\n",
            "Colocations handled automatically by placer.\n",
            "W0531 11:24:25.555672 135446340427776 deprecation.py:364] From /usr/local/lib/python3.11/dist-packages/keras/layers/normalization/batch_normalization.py:581: _colocate_with (from tensorflow.python.framework.ops) is deprecated and will be removed in a future version.\n",
            "Instructions for updating:\n",
            "Colocations handled automatically by placer.\n",
            "I0531 11:24:25.566345 135446340427776 efficientnet_model.py:734] Built stem stem : (64, 384, 384, 32)\n",
            "I0531 11:24:25.566505 135446340427776 efficientnet_model.py:755] block_0 survival_prob: 1.0\n",
            "I0531 11:24:25.566779 135446340427776 efficientnet_model.py:373] Block blocks_0 input shape: (64, 384, 384, 32)\n",
            "I0531 11:24:25.597259 135446340427776 efficientnet_model.py:392] DWConv shape: (64, 384, 384, 32)\n",
            "I0531 11:24:25.620248 135446340427776 efficientnet_model.py:194] Built SE se : (64, 1, 1, 32)\n",
            "I0531 11:24:25.647947 135446340427776 efficientnet_model.py:413] Project shape: (64, 384, 384, 16)\n",
            "I0531 11:24:25.648176 135446340427776 efficientnet_model.py:755] block_1 survival_prob: 0.991304347826087\n",
            "I0531 11:24:25.648452 135446340427776 efficientnet_model.py:373] Block blocks_1 input shape: (64, 384, 384, 16)\n",
            "I0531 11:24:25.678984 135446340427776 efficientnet_model.py:392] DWConv shape: (64, 384, 384, 16)\n",
            "I0531 11:24:25.703360 135446340427776 efficientnet_model.py:194] Built SE se : (64, 1, 1, 16)\n",
            "I0531 11:24:25.738493 135446340427776 efficientnet_model.py:413] Project shape: (64, 384, 384, 16)\n",
            "I0531 11:24:25.738765 135446340427776 efficientnet_model.py:755] block_2 survival_prob: 0.9826086956521739\n",
            "I0531 11:24:25.739057 135446340427776 efficientnet_model.py:373] Block blocks_2 input shape: (64, 384, 384, 16)\n",
            "I0531 11:24:25.768080 135446340427776 efficientnet_model.py:389] Expand shape: (64, 384, 384, 96)\n",
            "I0531 11:24:25.800403 135446340427776 efficientnet_model.py:392] DWConv shape: (64, 192, 192, 96)\n",
            "I0531 11:24:25.825117 135446340427776 efficientnet_model.py:194] Built SE se : (64, 1, 1, 96)\n",
            "I0531 11:24:25.854637 135446340427776 efficientnet_model.py:413] Project shape: (64, 192, 192, 24)\n",
            "I0531 11:24:25.854918 135446340427776 efficientnet_model.py:755] block_3 survival_prob: 0.9739130434782609\n",
            "I0531 11:24:25.855212 135446340427776 efficientnet_model.py:373] Block blocks_3 input shape: (64, 192, 192, 24)\n",
            "I0531 11:24:25.884948 135446340427776 efficientnet_model.py:389] Expand shape: (64, 192, 192, 144)\n",
            "I0531 11:24:25.914962 135446340427776 efficientnet_model.py:392] DWConv shape: (64, 192, 192, 144)\n",
            "I0531 11:24:25.938305 135446340427776 efficientnet_model.py:194] Built SE se : (64, 1, 1, 144)\n",
            "I0531 11:24:25.972280 135446340427776 efficientnet_model.py:413] Project shape: (64, 192, 192, 24)\n",
            "I0531 11:24:25.972513 135446340427776 efficientnet_model.py:755] block_4 survival_prob: 0.9652173913043478\n",
            "I0531 11:24:25.972784 135446340427776 efficientnet_model.py:373] Block blocks_4 input shape: (64, 192, 192, 24)\n",
            "I0531 11:24:26.005155 135446340427776 efficientnet_model.py:389] Expand shape: (64, 192, 192, 144)\n",
            "I0531 11:24:26.034979 135446340427776 efficientnet_model.py:392] DWConv shape: (64, 192, 192, 144)\n",
            "I0531 11:24:26.058917 135446340427776 efficientnet_model.py:194] Built SE se : (64, 1, 1, 144)\n",
            "I0531 11:24:26.094588 135446340427776 efficientnet_model.py:413] Project shape: (64, 192, 192, 24)\n",
            "I0531 11:24:26.094860 135446340427776 efficientnet_model.py:755] block_5 survival_prob: 0.9565217391304348\n",
            "I0531 11:24:26.095157 135446340427776 efficientnet_model.py:373] Block blocks_5 input shape: (64, 192, 192, 24)\n",
            "I0531 11:24:26.123717 135446340427776 efficientnet_model.py:389] Expand shape: (64, 192, 192, 144)\n",
            "I0531 11:24:26.155534 135446340427776 efficientnet_model.py:392] DWConv shape: (64, 96, 96, 144)\n",
            "I0531 11:24:26.178856 135446340427776 efficientnet_model.py:194] Built SE se : (64, 1, 1, 144)\n",
            "I0531 11:24:26.208775 135446340427776 efficientnet_model.py:413] Project shape: (64, 96, 96, 48)\n",
            "I0531 11:24:26.209043 135446340427776 efficientnet_model.py:755] block_6 survival_prob: 0.9478260869565217\n",
            "I0531 11:24:26.209322 135446340427776 efficientnet_model.py:373] Block blocks_6 input shape: (64, 96, 96, 48)\n",
            "I0531 11:24:26.238850 135446340427776 efficientnet_model.py:389] Expand shape: (64, 96, 96, 288)\n",
            "I0531 11:24:26.268263 135446340427776 efficientnet_model.py:392] DWConv shape: (64, 96, 96, 288)\n",
            "I0531 11:24:26.295382 135446340427776 efficientnet_model.py:194] Built SE se : (64, 1, 1, 288)\n",
            "I0531 11:24:26.338963 135446340427776 efficientnet_model.py:413] Project shape: (64, 96, 96, 48)\n",
            "I0531 11:24:26.339289 135446340427776 efficientnet_model.py:755] block_7 survival_prob: 0.9391304347826087\n",
            "I0531 11:24:26.339704 135446340427776 efficientnet_model.py:373] Block blocks_7 input shape: (64, 96, 96, 48)\n",
            "I0531 11:24:26.371594 135446340427776 efficientnet_model.py:389] Expand shape: (64, 96, 96, 288)\n",
            "I0531 11:24:26.401916 135446340427776 efficientnet_model.py:392] DWConv shape: (64, 96, 96, 288)\n",
            "I0531 11:24:26.424842 135446340427776 efficientnet_model.py:194] Built SE se : (64, 1, 1, 288)\n",
            "I0531 11:24:26.458501 135446340427776 efficientnet_model.py:413] Project shape: (64, 96, 96, 48)\n",
            "I0531 11:24:26.458774 135446340427776 efficientnet_model.py:755] block_8 survival_prob: 0.9304347826086956\n",
            "I0531 11:24:26.459080 135446340427776 efficientnet_model.py:373] Block blocks_8 input shape: (64, 96, 96, 48)\n",
            "I0531 11:24:26.491910 135446340427776 efficientnet_model.py:389] Expand shape: (64, 96, 96, 288)\n",
            "I0531 11:24:26.525357 135446340427776 efficientnet_model.py:392] DWConv shape: (64, 48, 48, 288)\n",
            "I0531 11:24:26.548420 135446340427776 efficientnet_model.py:194] Built SE se : (64, 1, 1, 288)\n",
            "I0531 11:24:26.575761 135446340427776 efficientnet_model.py:413] Project shape: (64, 48, 48, 88)\n",
            "I0531 11:24:26.576020 135446340427776 efficientnet_model.py:755] block_9 survival_prob: 0.9217391304347826\n",
            "I0531 11:24:26.576304 135446340427776 efficientnet_model.py:373] Block blocks_9 input shape: (64, 48, 48, 88)\n",
            "I0531 11:24:26.605390 135446340427776 efficientnet_model.py:389] Expand shape: (64, 48, 48, 528)\n",
            "I0531 11:24:26.634452 135446340427776 efficientnet_model.py:392] DWConv shape: (64, 48, 48, 528)\n",
            "I0531 11:24:26.657911 135446340427776 efficientnet_model.py:194] Built SE se : (64, 1, 1, 528)\n",
            "I0531 11:24:26.698908 135446340427776 efficientnet_model.py:413] Project shape: (64, 48, 48, 88)\n",
            "I0531 11:24:26.699140 135446340427776 efficientnet_model.py:755] block_10 survival_prob: 0.9130434782608696\n",
            "I0531 11:24:26.699417 135446340427776 efficientnet_model.py:373] Block blocks_10 input shape: (64, 48, 48, 88)\n",
            "I0531 11:24:26.728224 135446340427776 efficientnet_model.py:389] Expand shape: (64, 48, 48, 528)\n",
            "I0531 11:24:26.758056 135446340427776 efficientnet_model.py:392] DWConv shape: (64, 48, 48, 528)\n",
            "I0531 11:24:26.780820 135446340427776 efficientnet_model.py:194] Built SE se : (64, 1, 1, 528)\n",
            "I0531 11:24:26.816792 135446340427776 efficientnet_model.py:413] Project shape: (64, 48, 48, 88)\n",
            "I0531 11:24:26.817035 135446340427776 efficientnet_model.py:755] block_11 survival_prob: 0.9043478260869565\n",
            "I0531 11:24:26.817312 135446340427776 efficientnet_model.py:373] Block blocks_11 input shape: (64, 48, 48, 88)\n",
            "I0531 11:24:26.847592 135446340427776 efficientnet_model.py:389] Expand shape: (64, 48, 48, 528)\n",
            "I0531 11:24:26.878825 135446340427776 efficientnet_model.py:392] DWConv shape: (64, 48, 48, 528)\n",
            "I0531 11:24:26.908885 135446340427776 efficientnet_model.py:194] Built SE se : (64, 1, 1, 528)\n",
            "I0531 11:24:26.942641 135446340427776 efficientnet_model.py:413] Project shape: (64, 48, 48, 88)\n",
            "I0531 11:24:26.942882 135446340427776 efficientnet_model.py:755] block_12 survival_prob: 0.8956521739130435\n",
            "I0531 11:24:26.943196 135446340427776 efficientnet_model.py:373] Block blocks_12 input shape: (64, 48, 48, 88)\n",
            "I0531 11:24:26.972280 135446340427776 efficientnet_model.py:389] Expand shape: (64, 48, 48, 528)\n",
            "I0531 11:24:27.002036 135446340427776 efficientnet_model.py:392] DWConv shape: (64, 48, 48, 528)\n",
            "I0531 11:24:27.025205 135446340427776 efficientnet_model.py:194] Built SE se : (64, 1, 1, 528)\n",
            "I0531 11:24:27.057622 135446340427776 efficientnet_model.py:413] Project shape: (64, 48, 48, 120)\n",
            "I0531 11:24:27.057875 135446340427776 efficientnet_model.py:755] block_13 survival_prob: 0.8869565217391304\n",
            "I0531 11:24:27.058208 135446340427776 efficientnet_model.py:373] Block blocks_13 input shape: (64, 48, 48, 120)\n",
            "I0531 11:24:27.091223 135446340427776 efficientnet_model.py:389] Expand shape: (64, 48, 48, 720)\n",
            "I0531 11:24:27.123106 135446340427776 efficientnet_model.py:392] DWConv shape: (64, 48, 48, 720)\n",
            "I0531 11:24:27.147495 135446340427776 efficientnet_model.py:194] Built SE se : (64, 1, 1, 720)\n",
            "I0531 11:24:27.181868 135446340427776 efficientnet_model.py:413] Project shape: (64, 48, 48, 120)\n",
            "I0531 11:24:27.182131 135446340427776 efficientnet_model.py:755] block_14 survival_prob: 0.8782608695652174\n",
            "I0531 11:24:27.182408 135446340427776 efficientnet_model.py:373] Block blocks_14 input shape: (64, 48, 48, 120)\n",
            "I0531 11:24:27.211243 135446340427776 efficientnet_model.py:389] Expand shape: (64, 48, 48, 720)\n",
            "I0531 11:24:27.241676 135446340427776 efficientnet_model.py:392] DWConv shape: (64, 48, 48, 720)\n",
            "I0531 11:24:27.265311 135446340427776 efficientnet_model.py:194] Built SE se : (64, 1, 1, 720)\n",
            "I0531 11:24:27.301637 135446340427776 efficientnet_model.py:413] Project shape: (64, 48, 48, 120)\n",
            "I0531 11:24:27.301871 135446340427776 efficientnet_model.py:755] block_15 survival_prob: 0.8695652173913044\n",
            "I0531 11:24:27.302205 135446340427776 efficientnet_model.py:373] Block blocks_15 input shape: (64, 48, 48, 120)\n",
            "I0531 11:24:27.333566 135446340427776 efficientnet_model.py:389] Expand shape: (64, 48, 48, 720)\n",
            "I0531 11:24:27.372799 135446340427776 efficientnet_model.py:392] DWConv shape: (64, 48, 48, 720)\n",
            "I0531 11:24:27.398653 135446340427776 efficientnet_model.py:194] Built SE se : (64, 1, 1, 720)\n",
            "I0531 11:24:27.432196 135446340427776 efficientnet_model.py:413] Project shape: (64, 48, 48, 120)\n",
            "I0531 11:24:27.432491 135446340427776 efficientnet_model.py:755] block_16 survival_prob: 0.8608695652173913\n",
            "I0531 11:24:27.432760 135446340427776 efficientnet_model.py:373] Block blocks_16 input shape: (64, 48, 48, 120)\n",
            "I0531 11:24:27.461850 135446340427776 efficientnet_model.py:389] Expand shape: (64, 48, 48, 720)\n",
            "I0531 11:24:27.495140 135446340427776 efficientnet_model.py:392] DWConv shape: (64, 24, 24, 720)\n",
            "I0531 11:24:27.518637 135446340427776 efficientnet_model.py:194] Built SE se : (64, 1, 1, 720)\n",
            "I0531 11:24:27.546294 135446340427776 efficientnet_model.py:413] Project shape: (64, 24, 24, 208)\n",
            "I0531 11:24:27.546542 135446340427776 efficientnet_model.py:755] block_17 survival_prob: 0.8521739130434782\n",
            "I0531 11:24:27.546813 135446340427776 efficientnet_model.py:373] Block blocks_17 input shape: (64, 24, 24, 208)\n",
            "I0531 11:24:27.580402 135446340427776 efficientnet_model.py:389] Expand shape: (64, 24, 24, 1248)\n",
            "I0531 11:24:27.615423 135446340427776 efficientnet_model.py:392] DWConv shape: (64, 24, 24, 1248)\n",
            "I0531 11:24:27.639811 135446340427776 efficientnet_model.py:194] Built SE se : (64, 1, 1, 1248)\n",
            "I0531 11:24:27.674297 135446340427776 efficientnet_model.py:413] Project shape: (64, 24, 24, 208)\n",
            "I0531 11:24:27.674540 135446340427776 efficientnet_model.py:755] block_18 survival_prob: 0.8434782608695652\n",
            "I0531 11:24:27.674810 135446340427776 efficientnet_model.py:373] Block blocks_18 input shape: (64, 24, 24, 208)\n",
            "I0531 11:24:27.708194 135446340427776 efficientnet_model.py:389] Expand shape: (64, 24, 24, 1248)\n",
            "I0531 11:24:27.743389 135446340427776 efficientnet_model.py:392] DWConv shape: (64, 24, 24, 1248)\n",
            "I0531 11:24:27.769994 135446340427776 efficientnet_model.py:194] Built SE se : (64, 1, 1, 1248)\n",
            "I0531 11:24:27.807449 135446340427776 efficientnet_model.py:413] Project shape: (64, 24, 24, 208)\n",
            "I0531 11:24:27.807698 135446340427776 efficientnet_model.py:755] block_19 survival_prob: 0.8347826086956522\n",
            "I0531 11:24:27.807996 135446340427776 efficientnet_model.py:373] Block blocks_19 input shape: (64, 24, 24, 208)\n",
            "I0531 11:24:27.844428 135446340427776 efficientnet_model.py:389] Expand shape: (64, 24, 24, 1248)\n",
            "I0531 11:24:27.883074 135446340427776 efficientnet_model.py:392] DWConv shape: (64, 24, 24, 1248)\n",
            "I0531 11:24:27.907428 135446340427776 efficientnet_model.py:194] Built SE se : (64, 1, 1, 1248)\n",
            "I0531 11:24:27.941534 135446340427776 efficientnet_model.py:413] Project shape: (64, 24, 24, 208)\n",
            "I0531 11:24:27.941777 135446340427776 efficientnet_model.py:755] block_20 survival_prob: 0.8260869565217391\n",
            "I0531 11:24:27.942061 135446340427776 efficientnet_model.py:373] Block blocks_20 input shape: (64, 24, 24, 208)\n",
            "I0531 11:24:27.976480 135446340427776 efficientnet_model.py:389] Expand shape: (64, 24, 24, 1248)\n",
            "I0531 11:24:28.011708 135446340427776 efficientnet_model.py:392] DWConv shape: (64, 24, 24, 1248)\n",
            "I0531 11:24:28.036407 135446340427776 efficientnet_model.py:194] Built SE se : (64, 1, 1, 1248)\n",
            "I0531 11:24:28.070129 135446340427776 efficientnet_model.py:413] Project shape: (64, 24, 24, 208)\n",
            "I0531 11:24:28.070371 135446340427776 efficientnet_model.py:755] block_21 survival_prob: 0.8173913043478261\n",
            "I0531 11:24:28.070670 135446340427776 efficientnet_model.py:373] Block blocks_21 input shape: (64, 24, 24, 208)\n",
            "I0531 11:24:28.107812 135446340427776 efficientnet_model.py:389] Expand shape: (64, 24, 24, 1248)\n",
            "I0531 11:24:28.142740 135446340427776 efficientnet_model.py:392] DWConv shape: (64, 24, 24, 1248)\n",
            "I0531 11:24:28.169641 135446340427776 efficientnet_model.py:194] Built SE se : (64, 1, 1, 1248)\n",
            "I0531 11:24:28.200315 135446340427776 efficientnet_model.py:413] Project shape: (64, 24, 24, 352)\n",
            "I0531 11:24:28.200563 135446340427776 efficientnet_model.py:755] block_22 survival_prob: 0.808695652173913\n",
            "I0531 11:24:28.200845 135446340427776 efficientnet_model.py:373] Block blocks_22 input shape: (64, 24, 24, 352)\n",
            "I0531 11:24:28.244445 135446340427776 efficientnet_model.py:389] Expand shape: (64, 24, 24, 2112)\n",
            "I0531 11:24:28.281933 135446340427776 efficientnet_model.py:392] DWConv shape: (64, 24, 24, 2112)\n",
            "I0531 11:24:28.306889 135446340427776 efficientnet_model.py:194] Built SE se : (64, 1, 1, 2112)\n",
            "I0531 11:24:28.341166 135446340427776 efficientnet_model.py:413] Project shape: (64, 24, 24, 352)\n",
            "I0531 11:24:33.018486 135446340427776 det_model_fn.py:81] LR schedule method: cosine\n",
            "I0531 11:24:33.309002 135446340427776 utils.py:378] Adding scalar summary ('lrn_rate', <tf.Tensor 'Select:0' shape=() dtype=float32>)\n",
            "I0531 11:24:33.312166 135446340427776 utils.py:378] Adding scalar summary ('trainloss/cls_loss', <tf.Tensor 'AddN:0' shape=() dtype=float32>)\n",
            "I0531 11:24:33.316152 135446340427776 utils.py:378] Adding scalar summary ('trainloss/box_loss', <tf.Tensor 'AddN_1:0' shape=() dtype=float32>)\n",
            "I0531 11:24:33.318865 135446340427776 utils.py:378] Adding scalar summary ('trainloss/det_loss', <tf.Tensor 'add_3:0' shape=() dtype=float32>)\n",
            "I0531 11:24:33.321526 135446340427776 utils.py:378] Adding scalar summary ('trainloss/reg_l2_loss', <tf.Tensor 'mul_14:0' shape=() dtype=float32>)\n",
            "I0531 11:24:33.324177 135446340427776 utils.py:378] Adding scalar summary ('trainloss/loss', <tf.Tensor 'add_4:0' shape=() dtype=float32>)\n",
            "I0531 11:24:33.328181 135446340427776 utils.py:378] Adding scalar summary ('train_epochs', <tf.Tensor 'truediv_7:0' shape=() dtype=float32>)\n",
            "Traceback (most recent call last):\n",
            "  File \"/content/automl/efficientdet/main.py\", line 367, in <module>\n",
            "    app.run(main)\n",
            "  File \"/usr/local/lib/python3.11/dist-packages/absl/app.py\", line 308, in run\n",
            "    _run_main(main, args)\n",
            "  File \"/usr/local/lib/python3.11/dist-packages/absl/app.py\", line 254, in _run_main\n",
            "    sys.exit(main(argv))\n",
            "             ^^^^^^^^^^\n",
            "  File \"/content/automl/efficientdet/main.py\", line 297, in main\n",
            "    train_est.train(input_fn=train_input_fn, max_steps=train_steps)\n",
            "  File \"/usr/local/lib/python3.11/dist-packages/tensorflow_estimator/python/estimator/estimator.py\", line 360, in train\n",
            "    loss = self._train_model(input_fn, hooks, saving_listeners)\n",
            "           ^^^^^^^^^^^^^^^^^^^^^^^^^^^^^^^^^^^^^^^^^^^^^^^^^^^^\n",
            "  File \"/usr/local/lib/python3.11/dist-packages/tensorflow_estimator/python/estimator/estimator.py\", line 1186, in _train_model\n",
            "    return self._train_model_default(input_fn, hooks, saving_listeners)\n",
            "           ^^^^^^^^^^^^^^^^^^^^^^^^^^^^^^^^^^^^^^^^^^^^^^^^^^^^^^^^^^^^\n",
            "  File \"/usr/local/lib/python3.11/dist-packages/tensorflow_estimator/python/estimator/estimator.py\", line 1214, in _train_model_default\n",
            "    estimator_spec = self._call_model_fn(features, labels, ModeKeys.TRAIN,\n",
            "                     ^^^^^^^^^^^^^^^^^^^^^^^^^^^^^^^^^^^^^^^^^^^^^^^^^^^^^\n",
            "  File \"/usr/local/lib/python3.11/dist-packages/tensorflow_estimator/python/estimator/estimator.py\", line 1174, in _call_model_fn\n",
            "    model_fn_results = self._model_fn(features=features, **kwargs)\n",
            "                       ^^^^^^^^^^^^^^^^^^^^^^^^^^^^^^^^^^^^^^^^^^^\n",
            "  File \"/content/automl/efficientdet/det_model_fn.py\", line 612, in efficientdet_model_fn\n",
            "    return _model_fn(\n",
            "           ^^^^^^^^^^\n",
            "  File \"/usr/local/lib/python3.11/dist-packages/tensorflow/python/autograph/impl/api.py\", line 642, in wrapper\n",
            "    return func(*args, **kwargs)\n",
            "           ^^^^^^^^^^^^^^^^^^^^^\n",
            "  File \"/content/automl/efficientdet/det_model_fn.py\", line 379, in _model_fn\n",
            "    if params['optimizer'].lower() == 'sgd':\n",
            "       ^^^^^^^^^^^^^^^^^^^^^^^^^\n",
            "AttributeError: 'dict' object has no attribute 'lower'\n"
          ]
        }
      ]
    },
    {
      "cell_type": "markdown",
      "source": [
        "# Evaluar Modelo"
      ],
      "metadata": {
        "id": "C557q4yyJjsN"
      }
    },
    {
      "cell_type": "markdown",
      "source": [
        "# 📊 5. Evaluar con imágenes de test"
      ],
      "metadata": {
        "id": "TyRJbQ77PPRc"
      }
    },
    {
      "cell_type": "code",
      "source": [
        "# 7. Evaluar con conjunto de test\n",
        "!python main.py \\\n",
        "  --mode=eval \\\n",
        "  --model_name=efficientdet-d2 \\\n",
        "  --checkpoint=efficientdet_d0_model/model.ckpt \\\n",
        "  --test_file_pattern=/content/dataset/test-00000-of-00001.tfrecord \\\n",
        "  --hparams=config/efficientdet-d0-config.yaml"
      ],
      "metadata": {
        "colab": {
          "base_uri": "https://localhost:8080/"
        },
        "id": "3A-XkkZKJeiV",
        "outputId": "c9f5f3f4-de5c-41b7-bb70-add928196aed"
      },
      "execution_count": 2,
      "outputs": [
        {
          "output_type": "stream",
          "name": "stdout",
          "text": [
            "python3: can't open file '/content/main.py': [Errno 2] No such file or directory\n"
          ]
        }
      ]
    },
    {
      "cell_type": "code",
      "source": [
        "# 8. Visualizar predicciones\n",
        "!python main.py \\\n",
        "  --mode=predict \\\n",
        "  --model_name=efficientdet-d0 \\\n",
        "  --checkpoint=efficientdet_d0_model/model.ckpt \\\n",
        "  --input_pattern=/content/dataset/test-00000-of-00001.tfrecord \\\n",
        "  --output_dir=/content/efficientdet_predictions \\\n",
        "  --hparams=config/efficientdet-d0-config.yaml"
      ],
      "metadata": {
        "id": "6-Qm1zKEjamz"
      },
      "execution_count": null,
      "outputs": []
    },
    {
      "cell_type": "code",
      "source": [
        "# 9. Mostrar métricas de rendimiento (AP, AR, Precision, Recall)\n",
        "from object_detection.metrics import coco_evaluation\n",
        "from object_detection.utils import label_map_util"
      ],
      "metadata": {
        "id": "piqFOh9QjdUG"
      },
      "execution_count": null,
      "outputs": []
    },
    {
      "cell_type": "code",
      "source": [
        "# Asumiendo que los resultados ya están guardados en /content/efficientdet_d0_model/eval\n",
        "!cat /content/efficientdet_d0_model/eval/events* | grep -i 'Average Precision' || echo \"Revisar tensorboard para detalles\""
      ],
      "metadata": {
        "id": "VmKT7MNwJlhd"
      },
      "execution_count": null,
      "outputs": []
    },
    {
      "cell_type": "code",
      "source": [
        "# Para lanzar tensorboard:\n",
        "%load_ext tensorboard\n",
        "%tensorboard --logdir /content/efficientdet_d0_model/eval\n"
      ],
      "metadata": {
        "id": "nyK2155wjkDf"
      },
      "execution_count": null,
      "outputs": []
    }
  ]
}