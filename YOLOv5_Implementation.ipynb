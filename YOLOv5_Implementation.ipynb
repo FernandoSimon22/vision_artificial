{
  "nbformat": 4,
  "nbformat_minor": 0,
  "metadata": {
    "colab": {
      "provenance": [],
      "authorship_tag": "ABX9TyPLK41rN0zASF2wG3plPyUQ",
      "include_colab_link": true
    },
    "kernelspec": {
      "name": "python3",
      "display_name": "Python 3"
    },
    "language_info": {
      "name": "python"
    }
  },
  "cells": [
    {
      "cell_type": "markdown",
      "metadata": {
        "id": "view-in-github",
        "colab_type": "text"
      },
      "source": [
        "<a href=\"https://colab.research.google.com/github/FernandoSimon22/vision_artificial/blob/main/YOLOv5_Implementation.ipynb\" target=\"_parent\"><img src=\"https://colab.research.google.com/assets/colab-badge.svg\" alt=\"Open In Colab\"/></a>"
      ]
    },
    {
      "cell_type": "markdown",
      "source": [
        "# Setup\n",
        "\n",
        "Clone GitHub repository, install dependencies and check PyTorch and GPU."
      ],
      "metadata": {
        "id": "sbx9PS033m8J"
      }
    },
    {
      "cell_type": "code",
      "execution_count": null,
      "metadata": {
        "id": "4mtMjoG93Wnh"
      },
      "outputs": [],
      "source": [
        "!git clone https://github.com/ultralytics/yolov5  # clone\n",
        "%cd yolov5\n",
        "%pip install -qr requirements.txt comet_ml  # install\n",
        "%pip install -q roboflow\n",
        "\n",
        "import torch\n",
        "import utils\n",
        "import os\n",
        "from IPython.display import Image, clear_output\n",
        "display = utils.notebook_init()  # checks\n"
      ]
    },
    {
      "cell_type": "code",
      "source": [
        "!pip install roboflow\n",
        "\n",
        "from roboflow import Roboflow\n",
        "rf = Roboflow(api_key=\"lX9sE2RPQOCv2R7cn0io\")\n",
        "project = rf.workspace(\"jota22\").project(\"am_boundingbox\")\n",
        "version = project.version(14)\n",
        "dataset = version.download(\"yolov5\")"
      ],
      "metadata": {
        "id": "fEZY719n3-NA"
      },
      "execution_count": null,
      "outputs": []
    },
    {
      "cell_type": "code",
      "source": [
        "os.environ[\"DATASET_DIRECTORY\"] = \"/content/datasets\""
      ],
      "metadata": {
        "id": "DeuJKcxe4B6t"
      },
      "execution_count": null,
      "outputs": []
    },
    {
      "cell_type": "markdown",
      "source": [
        "### Train YOLOv5s"
      ],
      "metadata": {
        "id": "CnFtgTNc4HAa"
      }
    },
    {
      "cell_type": "code",
      "source": [
        "# Train YOLOv5s from scracht for 300 epochs\n",
        "!python train.py --img 640 --batch 16 --epochs 300 --data /content/yolov5/yolov5/AM_BoundingBox-14/data.yaml --weights yolov5s.pt --cache"
      ],
      "metadata": {
        "id": "6htrPlzc4Fjf"
      },
      "execution_count": null,
      "outputs": []
    },
    {
      "cell_type": "markdown",
      "source": [
        "# División en 5 folds"
      ],
      "metadata": {
        "id": "D9zjiPO-4YDk"
      }
    },
    {
      "cell_type": "code",
      "source": [
        "import os\n",
        "import shutil\n",
        "import random\n",
        "from sklearn.model_selection import KFold\n",
        "from pathlib import Path\n",
        "\n",
        "# Configura tu ruta de dataset aquí\n",
        "DATASET_PATH = \"/content/yolov5/yolov5/AM_BoundingBox-14/train\"\n",
        "IMAGES_DIR = os.path.join(DATASET_PATH, \"images\")\n",
        "LABELS_DIR = os.path.join(DATASET_PATH, \"labels\")\n",
        "\n",
        "# Número de folds\n",
        "K_FOLDS = 5\n",
        "\n",
        "# Lista de todas las imágenes y sus etiquetas\n",
        "images = sorted([f for f in os.listdir(IMAGES_DIR) if f.endswith(\".jpg\") or f.endswith(\".png\")])\n",
        "labels = sorted([f for f in os.listdir(LABELS_DIR) if f.endswith(\".txt\")])\n",
        "\n",
        "# Comprobación\n",
        "assert len(images) == len(labels), \"Número de imágenes y etiquetas no coincide\"\n",
        "\n",
        "# Crear los folds\n",
        "kf = KFold(n_splits=K_FOLDS, shuffle=True, random_state=42)\n",
        "\n",
        "for fold, (train_idx, val_idx) in enumerate(kf.split(images)):\n",
        "    print(f\"Preparando Fold {fold + 1}\")\n",
        "\n",
        "    fold_dir = f\"/content/folds/fold{fold + 1}\"\n",
        "    train_img_dir = os.path.join(fold_dir, \"train/images\")\n",
        "    train_lbl_dir = os.path.join(fold_dir, \"train/labels\")\n",
        "    val_img_dir = os.path.join(fold_dir, \"val/images\")\n",
        "    val_lbl_dir = os.path.join(fold_dir, \"val/labels\")\n",
        "\n",
        "    os.makedirs(train_img_dir, exist_ok=True)\n",
        "    os.makedirs(train_lbl_dir, exist_ok=True)\n",
        "    os.makedirs(val_img_dir, exist_ok=True)\n",
        "    os.makedirs(val_lbl_dir, exist_ok=True)\n",
        "\n",
        "    for i in train_idx:\n",
        "        shutil.copy(os.path.join(IMAGES_DIR, images[i]), os.path.join(train_img_dir, images[i]))\n",
        "        shutil.copy(os.path.join(LABELS_DIR, labels[i]), os.path.join(train_lbl_dir, labels[i]))\n",
        "\n",
        "    for i in val_idx:\n",
        "        shutil.copy(os.path.join(IMAGES_DIR, images[i]), os.path.join(val_img_dir, images[i]))\n",
        "        shutil.copy(os.path.join(LABELS_DIR, labels[i]), os.path.join(val_lbl_dir, labels[i]))\n",
        "\n",
        "print(\"✅ División en 5 folds completada\")"
      ],
      "metadata": {
        "colab": {
          "base_uri": "https://localhost:8080/"
        },
        "id": "4v0By-F_dZpf",
        "outputId": "2b9f7df2-f1c8-4e88-df51-f64f48450daf"
      },
      "execution_count": null,
      "outputs": [
        {
          "output_type": "stream",
          "name": "stdout",
          "text": [
            "Preparando Fold 1\n",
            "Preparando Fold 2\n",
            "Preparando Fold 3\n",
            "Preparando Fold 4\n",
            "Preparando Fold 5\n",
            "✅ División en 5 folds completada\n"
          ]
        }
      ]
    },
    {
      "cell_type": "markdown",
      "source": [
        "# Validación cruzada (5-fold CV) con YOLOv5 y calcular las métricas promedio."
      ],
      "metadata": {
        "id": "2g7aXxPy4ijO"
      }
    },
    {
      "cell_type": "markdown",
      "source": [
        "# ✅ 1. Configuración inicial"
      ],
      "metadata": {
        "id": "K--07jfU4z-V"
      }
    },
    {
      "cell_type": "code",
      "source": [
        "import os\n",
        "import shutil\n",
        "from sklearn.model_selection import KFold\n",
        "import glob\n",
        "from pathlib import Path\n",
        "import yaml\n",
        "\n",
        "# Rutas\n",
        "IMAGES_DIR = '/content/yolov5/yolov5/AM_BoundingBox-14/train/images'\n",
        "LABELS_DIR = '/content/yolov5/yolov5/AM_BoundingBox-14/train/labels'\n",
        "FOLDS_DIR = '/content/folds'\n",
        "os.makedirs(FOLDS_DIR, exist_ok=True)\n",
        "\n",
        "# Archivos\n",
        "image_files = sorted(glob.glob(os.path.join(IMAGES_DIR, '*.jpg')))\n",
        "kf = KFold(n_splits=5, shuffle=True, random_state=42)"
      ],
      "metadata": {
        "id": "nxwfg4x74ZGQ"
      },
      "execution_count": null,
      "outputs": []
    },
    {
      "cell_type": "markdown",
      "source": [
        "# ✅ 2. Crear carpetas para cada fold"
      ],
      "metadata": {
        "id": "rfYnUeg2457p"
      }
    },
    {
      "cell_type": "code",
      "source": [
        "for fold, (train_idx, val_idx) in enumerate(kf.split(image_files), 1):\n",
        "    fold_path = os.path.join(FOLDS_DIR, f'fold{fold}')\n",
        "    train_img = os.path.join(fold_path, 'images', 'train')\n",
        "    val_img = os.path.join(fold_path, 'images', 'val')\n",
        "    train_lbl = os.path.join(fold_path, 'labels', 'train')\n",
        "    val_lbl = os.path.join(fold_path, 'labels', 'val')\n",
        "    for d in [train_img, val_img, train_lbl, val_lbl]: os.makedirs(d, exist_ok=True)\n",
        "\n",
        "    for i in train_idx:\n",
        "        img = image_files[i]\n",
        "        lbl = os.path.join(LABELS_DIR, Path(img).stem + '.txt')\n",
        "        shutil.copy(img, train_img)\n",
        "        shutil.copy(lbl, train_lbl)\n",
        "\n",
        "    for i in val_idx:\n",
        "        img = image_files[i]\n",
        "        lbl = os.path.join(LABELS_DIR, Path(img).stem + '.txt')\n",
        "        shutil.copy(img, val_img)\n",
        "        shutil.copy(lbl, val_lbl)"
      ],
      "metadata": {
        "id": "MXFe-H8448S4"
      },
      "execution_count": null,
      "outputs": []
    },
    {
      "cell_type": "markdown",
      "source": [
        "# ✅ 3. Ejecutar entrenamiento en cada fold"
      ],
      "metadata": {
        "id": "btwL4ovI4-0v"
      }
    },
    {
      "cell_type": "code",
      "source": [
        "import subprocess\n",
        "\n",
        "results = []\n",
        "\n",
        "for fold in range(1, 6):\n",
        "    fold_path = f'{FOLDS_DIR}/fold{fold}'\n",
        "\n",
        "    # Crear YAML\n",
        "    data_yaml = {\n",
        "        'train': os.path.join(fold_path, 'images', 'train'),\n",
        "        'val': os.path.join(fold_path, 'images', 'val'),\n",
        "        'nc': 1,\n",
        "        'names': ['def']\n",
        "    }\n",
        "    yaml_path = os.path.join(fold_path, 'data.yaml')\n",
        "    with open(yaml_path, 'w') as f:\n",
        "        yaml.dump(data_yaml, f)\n",
        "\n",
        "    print(f'🔁 Entrenando fold {fold}...')\n",
        "\n",
        "    result = subprocess.run([\n",
        "        'python', 'train.py',\n",
        "        '--img', '640',\n",
        "        '--batch', '16',\n",
        "        '--epochs', '300',\n",
        "        '--data', yaml_path,\n",
        "        '--weights', 'yolov5s.pt',\n",
        "        '--project', '/content/folds/results',\n",
        "        '--name', f'fold{fold}',\n",
        "        '--exist-ok'\n",
        "    ])\n",
        "    results.append(result)"
      ],
      "metadata": {
        "id": "yily0B6e5Bog"
      },
      "execution_count": null,
      "outputs": []
    },
    {
      "cell_type": "markdown",
      "source": [
        "# ✅ 4. Promediar métricas de rendimiento (mAP, precisión, recall)"
      ],
      "metadata": {
        "id": "kt96Zeig5EYb"
      }
    },
    {
      "cell_type": "code",
      "source": [
        "import json\n",
        "\n",
        "maps = []\n",
        "precisions = []\n",
        "recalls = []\n",
        "\n",
        "for fold in range(1, 6):\n",
        "    path = f'/content/folds/results/fold{fold}/results.txt'\n",
        "    with open(path, 'r') as f:\n",
        "        lines = f.readlines()\n",
        "        last = lines[-1].strip().split()\n",
        "        maps.append(float(last[2]))       # mAP_0.5\n",
        "        precisions.append(float(last[0])) # precision\n",
        "        recalls.append(float(last[1]))    # recall\n",
        "\n",
        "print(f'📊 Promedio mAP@0.5: {sum(maps)/5:.4f}')\n",
        "print(f'📊 Promedio precisión: {sum(precisions)/5:.4f}')\n",
        "print(f'📊 Promedio recall: {sum(recalls)/5:.4f}')"
      ],
      "metadata": {
        "id": "b1aB6wc75G9m"
      },
      "execution_count": null,
      "outputs": []
    },
    {
      "cell_type": "code",
      "source": [
        "# YOLOv5 PyTorch HUB Inference (DetectionModels only)\n",
        "import torch\n",
        "\n",
        "model = torch.hub.load('ultralytics/yolov5', 'yolov5s', force_reload=True, trust_repo=True)  # or yolov5n - yolov5x6 or custom\n",
        "im = 'https://ultralytics.com/images/zidane.jpg'  # file, Path, PIL.Image, OpenCV, nparray, list\n",
        "results = model(im)  # inference\n",
        "results.print()  # or .show(), .save(), .crop(), .pandas(), etc."
      ],
      "metadata": {
        "id": "aLJcNPDY5LnJ"
      },
      "execution_count": null,
      "outputs": []
    }
  ]
}